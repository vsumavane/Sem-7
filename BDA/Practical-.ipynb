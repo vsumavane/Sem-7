{
  "cells": [
    {
      "cell_type": "code",
      "execution_count": 1,
      "metadata": {
        "id": "eRFeA9tiz_aM"
      },
      "outputs": [],
      "source": [
        "import urllib.request\n",
        "from operator import itemgetter"
      ]
    },
    {
      "cell_type": "code",
      "execution_count": 2,
      "metadata": {
        "id": "6qHF5Hzq0FRd"
      },
      "outputs": [],
      "source": [
        "current_word = {}\n",
        "current_count = 0\n",
        "story = 'https://raw.githubusercontent.com/vsumavane/Sem-7/main/BDA/data/vish.txt'\n",
        "request = urllib.request.Request(story)\n",
        "response = urllib.request.urlopen(request)\n",
        "each_word = []\n",
        "words = None\n",
        "count = 1\n",
        "same_words = {}\n",
        "word = []"
      ]
    },
    {
      "cell_type": "markdown",
      "metadata": {
        "id": "W3txQZSm050z"
      },
      "source": [
        "###Looping Entire File"
      ]
    },
    {
      "cell_type": "markdown",
      "metadata": {
        "id": "4S13qlUO0-MG"
      },
      "source": [
        "#Collect All the words into a list"
      ]
    },
    {
      "cell_type": "code",
      "execution_count": 3,
      "metadata": {
        "id": "evC3C7bf0qEG"
      },
      "outputs": [],
      "source": [
        "for line in response:\n",
        "  line_words = line.split()\n",
        "  for word in line_words:\n",
        "    each_word.append(word)"
      ]
    },
    {
      "cell_type": "markdown",
      "metadata": {
        "id": "uS1UVGyR1w9W"
      },
      "source": [
        "#### or every word collected, in dict same_words.\n",
        "#### if a key exists, such that key == word then increment Mapping Value by 1\n",
        "#### Else add word as new key with mapped value as 1"
      ]
    },
    {
      "cell_type": "code",
      "execution_count": 4,
      "metadata": {
        "colab": {
          "base_uri": "https://localhost:8080/"
        },
        "id": "NKcmyhQx1SpB",
        "outputId": "1820a541-edde-477b-80f7-c6ebf1e821fc"
      },
      "outputs": [
        {
          "name": "stdout",
          "output_type": "stream",
          "text": [
            "word =  b'the' , count =  37\n",
            "word =  b'cat,' , count =  1\n",
            "word =  b'cat' , count =  8\n",
            "word =  b'with' , count =  13\n",
            "word =  b'hat,' , count =  3\n",
            "word =  b'hat' , count =  7\n",
            "word =  b'sat.' , count =  1\n",
            "word =  b'sat' , count =  6\n",
            "word =  b'on' , count =  6\n",
            "word =  b'mat.' , count =  1\n",
            "word =  b'mat' , count =  7\n",
            "word =  b'bat.' , count =  1\n",
            "word =  b'bat' , count =  4\n",
            "word =  b'and' , count =  10\n",
            "word =  b'rat.' , count =  1\n",
            "word =  b'rat' , count =  3\n",
            "word =  b'hat.' , count =  1\n",
            "word =  b'was' , count =  3\n",
            "word =  b'flat.' , count =  1\n",
            "word =  b'flat,' , count =  1\n",
            "word =  b'that' , count =  1\n",
            "word =  b'that.' , count =  1\n"
          ]
        }
      ],
      "source": [
        "for words in each_word:\n",
        "  if words.lower() not in same_words.keys():\n",
        "    same_words[words.lower()] = 1\n",
        "  else:\n",
        "    same_words[words.lower()] = same_words[words.lower()] + 1\n",
        "\n",
        "for each in same_words.keys():\n",
        "  print(\"word = \",each,\", count = \", same_words[each])"
      ]
    }
  ],
  "metadata": {
    "colab": {
      "provenance": []
    },
    "kernelspec": {
      "display_name": "Python 3",
      "name": "python3"
    },
    "language_info": {
      "codemirror_mode": {
        "name": "ipython",
        "version": 3
      },
      "file_extension": ".py",
      "mimetype": "text/x-python",
      "name": "python",
      "nbconvert_exporter": "python",
      "pygments_lexer": "ipython3",
      "version": "3.10.13"
    }
  },
  "nbformat": 4,
  "nbformat_minor": 0
}
