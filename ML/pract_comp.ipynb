{
 "cells": [
  {
   "cell_type": "code",
   "execution_count": 36,
   "metadata": {},
   "outputs": [],
   "source": [
    "import numpy as np\n",
    "import pandas as pd\n",
    "from sklearn.model_selection import train_test_split\n",
    "from sklearn.preprocessing import StandardScaler\n",
    "from sklearn.metrics import mean_squared_error, r2_score, accuracy_score, precision_score, recall_score, f1_score\n",
    "from sklearn.neighbors import KNeighborsRegressor, KNeighborsClassifier\n",
    "from sklearn.linear_model import LinearRegression, LogisticRegression\n",
    "from sklearn.datasets import load_diabetes\n",
    "from tabulate import tabulate"
   ]
  },
  {
   "cell_type": "markdown",
   "metadata": {},
   "source": [
    "### Load Datasets"
   ]
  },
  {
   "cell_type": "code",
   "execution_count": 37,
   "metadata": {},
   "outputs": [],
   "source": [
    "diabetes = load_diabetes()\n",
    "X, y = diabetes.data, diabetes.target"
   ]
  },
  {
   "cell_type": "markdown",
   "metadata": {},
   "source": [
    "# Binarize the target variable for logistic regression and KNN classification\n"
   ]
  },
  {
   "cell_type": "code",
   "execution_count": 38,
   "metadata": {},
   "outputs": [],
   "source": [
    "y_binary = (y > 140).astype(int)"
   ]
  },
  {
   "cell_type": "markdown",
   "metadata": {},
   "source": [
    "# Split the dataset into training and test sets for regression\n"
   ]
  },
  {
   "cell_type": "code",
   "execution_count": 39,
   "metadata": {},
   "outputs": [],
   "source": [
    "X_train, X_test, y_train, y_test = train_test_split(X, y, test_size=0.2, random_state=42)\n"
   ]
  },
  {
   "cell_type": "code",
   "execution_count": 40,
   "metadata": {},
   "outputs": [],
   "source": [
    "X_train_bin, X_test_bin, y_train_bin, y_test_bin = train_test_split(X, y_binary, test_size=0.2, random_state=42)\n"
   ]
  },
  {
   "cell_type": "code",
   "execution_count": 41,
   "metadata": {},
   "outputs": [],
   "source": [
    "scaler = StandardScaler()\n",
    "X_train_scaled = scaler.fit_transform(X_train)\n",
    "X_test_scaled = scaler.transform(X_test)\n",
    "X_train_bin_scaled = scaler.fit_transform(X_train_bin)\n",
    "X_test_bin_scaled = scaler.transform(X_test_bin)"
   ]
  },
  {
   "cell_type": "markdown",
   "metadata": {},
   "source": [
    "### Train Model"
   ]
  },
  {
   "cell_type": "code",
   "execution_count": 42,
   "metadata": {},
   "outputs": [],
   "source": [
    "lin_reg = LinearRegression()\n",
    "lin_reg.fit(X_train_scaled, y_train)\n",
    "y_pred_lin_reg = lin_reg.predict(X_test_scaled)"
   ]
  },
  {
   "cell_type": "code",
   "execution_count": 43,
   "metadata": {},
   "outputs": [],
   "source": [
    "log_reg = LogisticRegression()\n",
    "log_reg.fit(X_train_bin_scaled, y_train_bin)\n",
    "y_pred_log_reg = log_reg.predict(X_test_bin_scaled)"
   ]
  },
  {
   "cell_type": "code",
   "execution_count": 44,
   "metadata": {},
   "outputs": [],
   "source": [
    "knn_reg = KNeighborsRegressor(n_neighbors=5)\n",
    "knn_reg.fit(X_train_scaled, y_train)\n",
    "y_pred_knn_reg = knn_reg.predict(X_test_scaled)"
   ]
  },
  {
   "cell_type": "code",
   "execution_count": 45,
   "metadata": {},
   "outputs": [],
   "source": [
    "knn_clf = KNeighborsClassifier(n_neighbors=5)\n",
    "knn_clf.fit(X_train_bin_scaled, y_train_bin)\n",
    "y_pred_knn_clf = knn_clf.predict(X_test_bin_scaled)"
   ]
  },
  {
   "cell_type": "code",
   "execution_count": 46,
   "metadata": {},
   "outputs": [],
   "source": [
    "mse_lin_reg = mean_squared_error(y_test, y_pred_lin_reg)\n",
    "r2_lin_reg = r2_score(y_test, y_pred_lin_reg)"
   ]
  },
  {
   "cell_type": "code",
   "execution_count": 47,
   "metadata": {},
   "outputs": [],
   "source": [
    "accuracy_log_reg = accuracy_score(y_test_bin, y_pred_log_reg)\n",
    "precision_log_reg = precision_score(y_test_bin, y_pred_log_reg)\n",
    "recall_log_reg = recall_score(y_test_bin, y_pred_log_reg)\n",
    "f1_log_reg = f1_score(y_test_bin, y_pred_log_reg)"
   ]
  },
  {
   "cell_type": "code",
   "execution_count": 48,
   "metadata": {},
   "outputs": [],
   "source": [
    "mse_knn_reg = mean_squared_error(y_test, y_pred_knn_reg)\n",
    "r2_knn_reg = r2_score(y_test, y_pred_knn_reg)"
   ]
  },
  {
   "cell_type": "code",
   "execution_count": 49,
   "metadata": {},
   "outputs": [],
   "source": [
    "accuracy_knn_clf = accuracy_score(y_test_bin, y_pred_knn_clf)\n",
    "precision_knn_clf = precision_score(y_test_bin, y_pred_knn_clf)\n",
    "recall_knn_clf = recall_score(y_test_bin, y_pred_knn_clf)\n",
    "f1_knn_clf = f1_score(y_test_bin, y_pred_knn_clf)"
   ]
  },
  {
   "cell_type": "code",
   "execution_count": 55,
   "metadata": {},
   "outputs": [],
   "source": [
    "# table_data = [\n",
    "#     ['Linear Regression', mse_lin_reg, r2_lin_reg, None, None, None, None],\n",
    "#     ['Logistic Regression', None, None, accuracy_log_reg, precision_log_reg, recall_log_reg, f1_log_reg],\n",
    "#     ['KNN Regression', mse_knn_reg, r2_knn_reg, None, None, None, None],\n",
    "#     ['KNN Classification', None, None, accuracy_knn_clf, precision_knn_clf, recall_knn_clf, f1_knn_clf]\n",
    "# ]"
   ]
  },
  {
   "cell_type": "markdown",
   "metadata": {},
   "source": [
    "### Prepare the results in tabular form"
   ]
  },
  {
   "cell_type": "code",
   "execution_count": 57,
   "metadata": {},
   "outputs": [
    {
     "ename": "NameError",
     "evalue": "name 'knn_mse' is not defined",
     "output_type": "error",
     "traceback": [
      "\u001b[0;31m---------------------------------------------------------------------------\u001b[0m",
      "\u001b[0;31mNameError\u001b[0m                                 Traceback (most recent call last)",
      "Cell \u001b[0;32mIn[57], line 2\u001b[0m\n\u001b[1;32m      1\u001b[0m results \u001b[38;5;241m=\u001b[39m pd\u001b[38;5;241m.\u001b[39mDataFrame({\u001b[38;5;124m'\u001b[39m\u001b[38;5;124mModel\u001b[39m\u001b[38;5;124m'\u001b[39m:[\u001b[38;5;124m'\u001b[39m\u001b[38;5;124mKNN\u001b[39m\u001b[38;5;124m'\u001b[39m, \u001b[38;5;124m'\u001b[39m\u001b[38;5;124mLinear Regression\u001b[39m\u001b[38;5;124m'\u001b[39m, \u001b[38;5;124m'\u001b[39m\u001b[38;5;124mLogistic Regression\u001b[39m\u001b[38;5;124m'\u001b[39m],\n\u001b[0;32m----> 2\u001b[0m                         \u001b[38;5;124m'\u001b[39m\u001b[38;5;124mMSE\u001b[39m\u001b[38;5;124m'\u001b[39m:[knn_mse, line_reg_mse, \u001b[38;5;28;01mNone\u001b[39;00m],\n\u001b[1;32m      3\u001b[0m                         \u001b[38;5;124m'\u001b[39m\u001b[38;5;124mR2 Score\u001b[39m\u001b[38;5;124m'\u001b[39m:[knn_r2, lin_reg_r2, \u001b[38;5;28;01mNone\u001b[39;00m],\n\u001b[1;32m      4\u001b[0m                         \u001b[38;5;124m'\u001b[39m\u001b[38;5;124mAccuracy\u001b[39m\u001b[38;5;124m'\u001b[39m:[\u001b[38;5;28;01mNone\u001b[39;00m, \u001b[38;5;28;01mNone\u001b[39;00m, log_reg_accuracy],\n\u001b[1;32m      5\u001b[0m                         \u001b[38;5;124m'\u001b[39m\u001b[38;5;124mPrecision\u001b[39m\u001b[38;5;124m'\u001b[39m:[\u001b[38;5;28;01mNone\u001b[39;00m, \u001b[38;5;28;01mNone\u001b[39;00m, log_reg_precision],\n\u001b[1;32m      6\u001b[0m                         \u001b[38;5;124m'\u001b[39m\u001b[38;5;124mRecall\u001b[39m\u001b[38;5;124m'\u001b[39m:[\u001b[38;5;28;01mNone\u001b[39;00m, \u001b[38;5;28;01mNone\u001b[39;00m, log_reg_recall],\n\u001b[1;32m      7\u001b[0m                         \u001b[38;5;124m'\u001b[39m\u001b[38;5;124mF1 Score\u001b[39m\u001b[38;5;124m'\u001b[39m:[\u001b[38;5;28;01mNone\u001b[39;00m, \u001b[38;5;28;01mNone\u001b[39;00m, log_reg_f1]\n\u001b[1;32m      8\u001b[0m })\n\u001b[1;32m     10\u001b[0m results()\n",
      "\u001b[0;31mNameError\u001b[0m: name 'knn_mse' is not defined"
     ]
    }
   ],
   "source": [
    "results = pd.DataFrame({'Model':['KNN', 'Linear Regression', 'Logistic Regression'],\n",
    "                        'MSE':[knn_mse, line_reg_mse, None],\n",
    "                        'R2 Score':[knn_r2, lin_reg_r2, None],\n",
    "                        'Accuracy':[None, None, log_reg_accuracy],\n",
    "                        'Precision':[None, None, log_reg_precision],\n",
    "                        'Recall':[None, None, log_reg_recall],\n",
    "                        'F1 Score':[None, None, log_reg_f1]\n",
    "})\n",
    "\n",
    "results()"
   ]
  },
  {
   "cell_type": "code",
   "execution_count": 51,
   "metadata": {},
   "outputs": [],
   "source": []
  },
  {
   "cell_type": "code",
   "execution_count": 52,
   "metadata": {},
   "outputs": [
    {
     "name": "stdout",
     "output_type": "stream",
     "text": [
      "+---------------------+---------+----------+------------+-------------+----------+------------+\n",
      "| Model               |     MSE |       R2 |   Accuracy |   Precision |   Recall |   F1 Score |\n",
      "+=====================+=========+==========+============+=============+==========+============+\n",
      "| Linear Regression   | 2900.19 | 0.452603 |            |             |          |            |\n",
      "+---------------------+---------+----------+------------+-------------+----------+------------+\n",
      "| Logistic Regression |         |          |   0.730337 |    0.690476 |    0.725 |   0.707317 |\n",
      "+---------------------+---------+----------+------------+-------------+----------+------------+\n",
      "| KNN Regression      | 3047.45 | 0.424809 |            |             |          |            |\n",
      "+---------------------+---------+----------+------------+-------------+----------+------------+\n",
      "| KNN Classification  |         |          |   0.685393 |    0.65     |    0.65  |   0.65     |\n",
      "+---------------------+---------+----------+------------+-------------+----------+------------+\n"
     ]
    }
   ],
   "source": []
  }
 ],
 "metadata": {
  "kernelspec": {
   "display_name": "base",
   "language": "python",
   "name": "python3"
  },
  "language_info": {
   "codemirror_mode": {
    "name": "ipython",
    "version": 3
   },
   "file_extension": ".py",
   "mimetype": "text/x-python",
   "name": "python",
   "nbconvert_exporter": "python",
   "pygments_lexer": "ipython3",
   "version": "3.12.4"
  }
 },
 "nbformat": 4,
 "nbformat_minor": 2
}
