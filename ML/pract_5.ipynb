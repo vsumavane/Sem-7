{
  "cells": [
    {
      "cell_type": "markdown",
      "metadata": {
        "id": "lwCb5K7LlKq0"
      },
      "source": [
        "# Commented out IPython magic to ensure Python compatibility.\n",
        "\n"
      ]
    },
    {
      "cell_type": "code",
      "execution_count": 4,
      "metadata": {
        "id": "u4A5r7OalKq2"
      },
      "outputs": [],
      "source": [
        "import numpy as np\n",
        "import pandas as pd\n",
        "import matplotlib.pyplot as plt\n",
        "import seaborn as sns\n"
      ]
    },
    {
      "cell_type": "markdown",
      "metadata": {
        "id": "cXDC5-YMlKq3"
      },
      "source": [
        "# %matplotlib inline"
      ]
    },
    {
      "cell_type": "code",
      "execution_count": 5,
      "metadata": {
        "id": "9IbgmRgilKq3",
        "outputId": "cc06d9ee-6852-41eb-e597-81e297778ec5",
        "colab": {
          "base_uri": "https://localhost:8080/"
        }
      },
      "outputs": [
        {
          "output_type": "stream",
          "name": "stdout",
          "text": [
            "['.config', 'heart.csv', 'sample_data']\n",
            "<class 'pandas.core.frame.DataFrame'>\n",
            "RangeIndex: 303 entries, 0 to 302\n",
            "Data columns (total 14 columns):\n",
            " #   Column    Non-Null Count  Dtype  \n",
            "---  ------    --------------  -----  \n",
            " 0   age       303 non-null    int64  \n",
            " 1   sex       303 non-null    int64  \n",
            " 2   cp        303 non-null    int64  \n",
            " 3   trestbps  303 non-null    int64  \n",
            " 4   chol      303 non-null    int64  \n",
            " 5   fbs       303 non-null    int64  \n",
            " 6   restecg   303 non-null    int64  \n",
            " 7   thalach   303 non-null    int64  \n",
            " 8   exang     303 non-null    int64  \n",
            " 9   oldpeak   303 non-null    float64\n",
            " 10  slope     303 non-null    int64  \n",
            " 11  ca        303 non-null    int64  \n",
            " 12  thal      303 non-null    int64  \n",
            " 13  target    303 non-null    int64  \n",
            "dtypes: float64(1), int64(13)\n",
            "memory usage: 33.3 KB\n",
            "age:\t\t\tage\n",
            "sex:\t\t\t1: male, 0: female\n",
            "cp:\t\t\tchest pain type, 1: typical angina, 2: atypical angina, 3: non-anginal pain, 4: asymptomatic\n",
            "trestbps:\t\t\tresting blood pressure\n",
            "chol:\t\t\t serum cholestoral in mg/dl\n",
            "fbs:\t\t\tfasting blood sugar > 120 mg/dl\n",
            "restecg:\t\t\tresting electrocardiographic results (values 0,1,2)\n",
            "thalach:\t\t\t maximum heart rate achieved\n",
            "exang:\t\t\texercise induced angina\n",
            "oldpeak:\t\t\toldpeak = ST depression induced by exercise relative to rest\n",
            "slope:\t\t\tthe slope of the peak exercise ST segment\n",
            "ca:\t\t\tnumber of major vessels (0-3) colored by flourosopy\n",
            "thal:\t\t\tthal: 3 = normal; 6 = fixed defect; 7 = reversable defect\n"
          ]
        }
      ],
      "source": [
        "import os\n",
        "print(os.listdir())\n",
        "\n",
        "import warnings\n",
        "warnings.filterwarnings('ignore')\n",
        "\n",
        "dataset = pd.read_csv(\"heart.csv\")\n",
        "\n",
        "type(dataset)\n",
        "\n",
        "dataset.shape\n",
        "\n",
        "dataset.head(5)\n",
        "\n",
        "dataset.sample(5)\n",
        "\n",
        "dataset.describe()\n",
        "\n",
        "dataset.info()\n",
        "\n",
        "info = [\"age\",\"1: male, 0: female\",\"chest pain type, 1: typical angina, 2: atypical angina, 3: non-anginal pain, 4: asymptomatic\",\"resting blood pressure\",\" serum cholestoral in mg/dl\",\"fasting blood sugar > 120 mg/dl\",\"resting electrocardiographic results (values 0,1,2)\",\" maximum heart rate achieved\",\"exercise induced angina\",\"oldpeak = ST depression induced by exercise relative to rest\",\"the slope of the peak exercise ST segment\",\"number of major vessels (0-3) colored by flourosopy\",\"thal: 3 = normal; 6 = fixed defect; 7 = reversable defect\"]\n",
        "\n",
        "\n",
        "\n",
        "for i in range(len(info)):\n",
        "    print(dataset.columns[i]+\":\\t\\t\\t\"+info[i])"
      ]
    },
    {
      "cell_type": "markdown",
      "metadata": {
        "id": "LVO9tgydlKq4"
      },
      "source": [
        "\"\"\"Analysing the 'target' variable\"\"\""
      ]
    },
    {
      "cell_type": "code",
      "execution_count": 6,
      "metadata": {
        "id": "sCbfBvfalKq4",
        "outputId": "f1b0b343-9227-46da-843a-64ddc27f8073",
        "colab": {
          "base_uri": "https://localhost:8080/"
        }
      },
      "outputs": [
        {
          "output_type": "execute_result",
          "data": {
            "text/plain": [
              "array([1, 0])"
            ]
          },
          "metadata": {},
          "execution_count": 6
        }
      ],
      "source": [
        "\n",
        "dataset[\"target\"].describe()\n",
        "\n",
        "dataset[\"target\"].unique()"
      ]
    },
    {
      "cell_type": "markdown",
      "metadata": {
        "id": "Sh5inPGblKq5"
      },
      "source": [
        "\"\"\"Clearly, this is a classification problem, with the target variable having values '0' and '1'\n",
        "Checking correlation between columns\n",
        "\"\"\""
      ]
    },
    {
      "cell_type": "code",
      "execution_count": 7,
      "metadata": {
        "id": "bnzum_6mlKq5",
        "outputId": "3c6caa4a-e79f-45d2-ac79-b25f4f850f33",
        "colab": {
          "base_uri": "https://localhost:8080/"
        }
      },
      "outputs": [
        {
          "output_type": "stream",
          "name": "stdout",
          "text": [
            "target      1.000000\n",
            "exang       0.436757\n",
            "cp          0.433798\n",
            "oldpeak     0.430696\n",
            "thalach     0.421741\n",
            "ca          0.391724\n",
            "slope       0.345877\n",
            "thal        0.344029\n",
            "sex         0.280937\n",
            "age         0.225439\n",
            "trestbps    0.144931\n",
            "restecg     0.137230\n",
            "chol        0.085239\n",
            "fbs         0.028046\n",
            "Name: target, dtype: float64\n"
          ]
        }
      ],
      "source": [
        "print(dataset.corr()[\"target\"].abs().sort_values(ascending=False))\n"
      ]
    },
    {
      "cell_type": "markdown",
      "metadata": {
        "id": "c0iZJpVulKq5"
      },
      "source": [
        "# This shows that most columns are moderately correlated with target, but 'fbs' is very weakly correlated\n"
      ]
    },
    {
      "cell_type": "markdown",
      "metadata": {
        "id": "SwCE5XHklKq5"
      },
      "source": [
        "\"\"\"**Exploratory Data Analysis (EDA)**\n",
        "First, analysing the target variable:\n",
        "\"\"\""
      ]
    },
    {
      "cell_type": "code",
      "execution_count": 8,
      "metadata": {
        "id": "R5V880PSlKq5",
        "outputId": "df21959a-6af7-4a41-e1ba-c88a1296d4fa",
        "colab": {
          "base_uri": "https://localhost:8080/",
          "height": 499
        }
      },
      "outputs": [
        {
          "output_type": "stream",
          "name": "stdout",
          "text": [
            "target\n",
            "1    165\n",
            "0    138\n",
            "Name: count, dtype: int64\n"
          ]
        },
        {
          "output_type": "display_data",
          "data": {
            "text/plain": [
              "<Figure size 640x480 with 1 Axes>"
            ],
            "image/png": "[encoded data removed]"
          },
          "metadata": {}
        }
      ],
      "source": [
        "y = dataset[\"target\"]\n",
        "\n",
        "sns.countplot(y)\n",
        "target_temp = dataset.target.value_counts()\n",
        "print(target_temp)"
      ]
    },
    {
      "cell_type": "markdown",
      "metadata": {
        "id": "nwZ8Zq06lKq5"
      },
      "source": [
        "\"\"\"We'll analyse 'sex', 'cp', 'fbs', 'restecg', 'exang', 'slope', 'ca' and 'thal' features\n",
        "Analysing the 'Sex' feature\n",
        "\n",
        "\"\"\""
      ]
    },
    {
      "cell_type": "code",
      "execution_count": 9,
      "metadata": {
        "id": "3-u2JKe4lKq5",
        "outputId": "1bdeddc7-0313-45a2-bbf5-6de374270feb",
        "colab": {
          "base_uri": "https://localhost:8080/"
        }
      },
      "outputs": [
        {
          "output_type": "stream",
          "name": "stdout",
          "text": [
            "Percentage of patience without heart problems: 45.54\n",
            "Percentage of patience with heart problems: 54.46\n"
          ]
        }
      ],
      "source": [
        "print(\"Percentage of patience without heart problems: \"+str(round(target_temp[0]*100/303,2)))\n",
        "print(\"Percentage of patience with heart problems: \"+str(round(target_temp[1]*100/303,2)))\n"
      ]
    },
    {
      "cell_type": "markdown",
      "metadata": {
        "id": "ev6mOosklKq5"
      },
      "source": [
        "## Alternatively,\n",
        "### print(\"Percentage of patience with heart problems: \"+str(y.where(y==1).count()*100/303))\n",
        "### print(\"Percentage of patience with heart problems: \"+str(y.where(y==0).count()*100/303))\n",
        "\n",
        "### Or, countNoDisease = len(df[df.target == 0]) countHaveDisease = len(df[df.target == 1])"
      ]
    },
    {
      "cell_type": "markdown",
      "metadata": {
        "id": "ZrFzFo3elKq6"
      },
      "source": [
        "We'll analyse 'sex', 'cp', 'fbs', 'restecg', 'exang', 'slope', 'ca' and 'thal' features.\n",
        "\n",
        "Analysing the 'Sex' feature"
      ]
    },
    {
      "cell_type": "code",
      "execution_count": 10,
      "metadata": {
        "id": "5FigrMKulKq6",
        "outputId": "4f170a1d-0897-48eb-a9dc-ea97805d39eb",
        "colab": {
          "base_uri": "https://localhost:8080/",
          "height": 447
        }
      },
      "outputs": [
        {
          "output_type": "execute_result",
          "data": {
            "text/plain": [
              "<Axes: ylabel='sex'>"
            ]
          },
          "metadata": {},
          "execution_count": 10
        },
        {
          "output_type": "display_data",
          "data": {
            "text/plain": [
              "<Figure size 640x480 with 1 Axes>"
            ],
            "image/png": "[encoded data removed]"
          },
          "metadata": {}
        }
      ],
      "source": [
        "\n",
        "dataset[\"sex\"].unique()\n",
        "\n",
        "sns.barplot(dataset[\"sex\"])"
      ]
    },
    {
      "cell_type": "markdown",
      "metadata": {
        "id": "jpC8aeUzlKq6"
      },
      "source": [
        "IV. Train Test split\n",
        "```\n",
        "# This is formatted as code\n",
        "```\n"
      ]
    },
    {
      "cell_type": "code",
      "execution_count": 11,
      "metadata": {
        "id": "Qh7mZx2HlKq6",
        "outputId": "90879f62-91e8-4503-e635-ee024866e59f",
        "colab": {
          "base_uri": "https://localhost:8080/"
        }
      },
      "outputs": [
        {
          "output_type": "execute_result",
          "data": {
            "text/plain": [
              "(61,)"
            ]
          },
          "metadata": {},
          "execution_count": 11
        }
      ],
      "source": [
        "from sklearn.model_selection import train_test_split\n",
        "\n",
        "predictors = dataset.drop(\"target\", axis=1)\n",
        "target = dataset[\"target\"]\n",
        "\n",
        "X_train, X_test, Y_train, Y_test = train_test_split(predictors, target, test_size=0.20, random_state=0)\n",
        "\n",
        "X_train.shape\n",
        "X_test.shape\n",
        "Y_train.shape\n",
        "Y_test.shape"
      ]
    },
    {
      "cell_type": "markdown",
      "metadata": {
        "id": "w5scS24DlKq6"
      },
      "source": [
        "\"\"\"V. Model Fitting\"\"\"\n"
      ]
    },
    {
      "cell_type": "code",
      "execution_count": 12,
      "metadata": {
        "id": "psv3NDOZlKq6"
      },
      "outputs": [],
      "source": [
        "from sklearn.metrics import accuracy_score"
      ]
    },
    {
      "cell_type": "markdown",
      "metadata": {
        "id": "nNGCv44NlKq6"
      },
      "source": [
        "\"\"\"Logistic Regression\"\"\"\n"
      ]
    },
    {
      "cell_type": "code",
      "execution_count": 13,
      "metadata": {
        "id": "n1WZGElllKq6",
        "outputId": "ca4b0355-aa58-40ce-953f-9ad3b88ed53d",
        "colab": {
          "base_uri": "https://localhost:8080/"
        }
      },
      "outputs": [
        {
          "output_type": "stream",
          "name": "stdout",
          "text": [
            "The accuracy score achieved using Logistic Regression is: 85.25 %\n",
            "              precision    recall  f1-score   support\n",
            "\n",
            "           0       0.81      0.85      0.83        26\n",
            "           1       0.88      0.86      0.87        35\n",
            "\n",
            "    accuracy                           0.85        61\n",
            "   macro avg       0.85      0.85      0.85        61\n",
            "weighted avg       0.85      0.85      0.85        61\n",
            "\n"
          ]
        }
      ],
      "source": [
        "from sklearn.linear_model import LogisticRegression\n",
        "\n",
        "lr = LogisticRegression()\n",
        "\n",
        "lr.fit(X_train,Y_train)\n",
        "\n",
        "Y_pred_lr = lr.predict(X_test)\n",
        "\n",
        "Y_pred_lr.shape\n",
        "\n",
        "score_lr = round(accuracy_score(Y_pred_lr,Y_test)*100,2)\n",
        "\n",
        "print(\"The accuracy score achieved using Logistic Regression is: \"+str(score_lr)+\" %\")\n",
        "\n",
        "from sklearn.metrics import classification_report,confusion_matrix,accuracy_score\n",
        "\n",
        "print(classification_report(Y_pred_lr,Y_test))"
      ]
    },
    {
      "cell_type": "markdown",
      "metadata": {
        "id": "xz3OMnwdlKq6"
      },
      "source": [
        "\"\"\"Naive Bayes\"\"\"\n"
      ]
    },
    {
      "cell_type": "code",
      "execution_count": 14,
      "metadata": {
        "id": "AXqbwZAtlKq7",
        "outputId": "ccd97260-a34f-4391-94e7-9f5f6698def8",
        "colab": {
          "base_uri": "https://localhost:8080/"
        }
      },
      "outputs": [
        {
          "output_type": "stream",
          "name": "stdout",
          "text": [
            "The accuracy score achieved using Naive Bayes is: 85.25 %\n",
            "              precision    recall  f1-score   support\n",
            "\n",
            "           0       0.78      0.88      0.82        24\n",
            "           1       0.91      0.84      0.87        37\n",
            "\n",
            "    accuracy                           0.85        61\n",
            "   macro avg       0.84      0.86      0.85        61\n",
            "weighted avg       0.86      0.85      0.85        61\n",
            "\n"
          ]
        }
      ],
      "source": [
        "from sklearn.naive_bayes import GaussianNB\n",
        "\n",
        "nb = GaussianNB()\n",
        "\n",
        "nb.fit(X_train,Y_train)\n",
        "\n",
        "Y_pred_nb = nb.predict(X_test)\n",
        "\n",
        "Y_pred_nb.shape\n",
        "\n",
        "score_nb = round(accuracy_score(Y_pred_nb,Y_test)*100,2)\n",
        "\n",
        "print(\"The accuracy score achieved using Naive Bayes is: \"+str(score_nb)+\" %\")\n",
        "\n",
        "print(classification_report(Y_pred_nb,Y_test))"
      ]
    },
    {
      "cell_type": "markdown",
      "metadata": {
        "id": "5de9lm3tlKq7"
      },
      "source": [
        "\"\"\"SVM\"\"\""
      ]
    },
    {
      "cell_type": "code",
      "execution_count": 15,
      "metadata": {
        "id": "INXU40EDlKq7",
        "outputId": "3d7485ba-4c63-4c2a-a841-6b59fb42f594",
        "colab": {
          "base_uri": "https://localhost:8080/"
        }
      },
      "outputs": [
        {
          "output_type": "stream",
          "name": "stdout",
          "text": [
            "The accuracy score achieved using Linear SVM is: 81.97 %\n",
            "              precision    recall  f1-score   support\n",
            "\n",
            "           0       0.74      0.83      0.78        24\n",
            "           1       0.88      0.81      0.85        37\n",
            "\n",
            "    accuracy                           0.82        61\n",
            "   macro avg       0.81      0.82      0.81        61\n",
            "weighted avg       0.83      0.82      0.82        61\n",
            "\n"
          ]
        }
      ],
      "source": [
        "from sklearn import svm\n",
        "\n",
        "sv = svm.SVC(kernel='linear')\n",
        "\n",
        "sv.fit(X_train, Y_train)\n",
        "\n",
        "Y_pred_svm = sv.predict(X_test)\n",
        "\n",
        "Y_pred_svm.shape\n",
        "\n",
        "score_svm = round(accuracy_score(Y_pred_svm,Y_test)*100,2)\n",
        "\n",
        "print(\"The accuracy score achieved using Linear SVM is: \"+str(score_svm)+\" %\")\n",
        "\n",
        "print(classification_report(Y_pred_svm,Y_test))"
      ]
    },
    {
      "cell_type": "markdown",
      "metadata": {
        "id": "obkuORcslKq7"
      },
      "source": [
        "K Nearest Neighbors"
      ]
    },
    {
      "cell_type": "code",
      "execution_count": 16,
      "metadata": {
        "id": "M81st3jllKq7",
        "outputId": "c8d95402-5b34-43dc-cc6b-de0253a5f23f",
        "colab": {
          "base_uri": "https://localhost:8080/"
        }
      },
      "outputs": [
        {
          "output_type": "stream",
          "name": "stdout",
          "text": [
            "The accuracy score achieved using KNN is: 67.21 %\n",
            "              precision    recall  f1-score   support\n",
            "\n",
            "           0       0.67      0.62      0.64        29\n",
            "           1       0.68      0.72      0.70        32\n",
            "\n",
            "    accuracy                           0.67        61\n",
            "   macro avg       0.67      0.67      0.67        61\n",
            "weighted avg       0.67      0.67      0.67        61\n",
            "\n"
          ]
        }
      ],
      "source": [
        "from sklearn.neighbors import KNeighborsClassifier\n",
        "\n",
        "knn = KNeighborsClassifier(n_neighbors=7)\n",
        "knn.fit(X_train,Y_train)\n",
        "Y_pred_knn=knn.predict(X_test)\n",
        "\n",
        "Y_pred_knn.shape\n",
        "\n",
        "score_knn = round(accuracy_score(Y_pred_knn,Y_test)*100,2)\n",
        "\n",
        "print(\"The accuracy score achieved using KNN is: \"+str(score_knn)+\" %\")\n",
        "\n",
        "print(classification_report(Y_pred_knn,Y_test))"
      ]
    },
    {
      "cell_type": "markdown",
      "metadata": {
        "id": "MHlW9-O1lKq7"
      },
      "source": [
        "Decision Tree"
      ]
    },
    {
      "cell_type": "code",
      "execution_count": 17,
      "metadata": {
        "id": "fCtzy16ElKq7"
      },
      "outputs": [],
      "source": [
        "from sklearn.tree import DecisionTreeClassifier\n",
        "\n",
        "max_accuracy = 0\n",
        "\n",
        "\n",
        "for x in range(200):\n",
        "    dt = DecisionTreeClassifier(random_state=x)\n",
        "    dt.fit(X_train,Y_train)\n",
        "    Y_pred_dt = dt.predict(X_test)\n",
        "    current_accuracy = round(accuracy_score(Y_pred_dt,Y_test)*100,2)\n",
        "    if(current_accuracy>max_accuracy):\n",
        "        max_accuracy = current_accuracy\n",
        "        best_x = x"
      ]
    },
    {
      "cell_type": "code",
      "execution_count": 18,
      "metadata": {
        "id": "ZHrLgkX9lKq7",
        "outputId": "b848e5a9-1493-4704-e4de-70ed8443cd06",
        "colab": {
          "base_uri": "https://localhost:8080/"
        }
      },
      "outputs": [
        {
          "output_type": "stream",
          "name": "stdout",
          "text": [
            "(61,)\n",
            "The accuracy score achieved using Decision Tree is: 81.97 %\n",
            "              precision    recall  f1-score   support\n",
            "\n",
            "           0       0.81      0.79      0.80        28\n",
            "           1       0.82      0.85      0.84        33\n",
            "\n",
            "    accuracy                           0.82        61\n",
            "   macro avg       0.82      0.82      0.82        61\n",
            "weighted avg       0.82      0.82      0.82        61\n",
            "\n"
          ]
        }
      ],
      "source": [
        "dt = DecisionTreeClassifier(random_state=best_x)\n",
        "dt.fit(X_train,Y_train)\n",
        "Y_pred_dt = dt.predict(X_test)\n",
        "\n",
        "print(Y_pred_dt.shape)\n",
        "\n",
        "score_dt = round(accuracy_score(Y_pred_dt,Y_test)*100,2)\n",
        "\n",
        "print(\"The accuracy score achieved using Decision Tree is: \"+str(score_dt)+\" %\")\n",
        "\n",
        "print(classification_report(Y_pred_dt,Y_test))"
      ]
    },
    {
      "cell_type": "markdown",
      "metadata": {
        "id": "BVD-eX9AlKq7"
      },
      "source": [
        "Random Forest"
      ]
    },
    {
      "cell_type": "code",
      "execution_count": 25,
      "metadata": {
        "id": "1AphWb7xlKq7"
      },
      "outputs": [],
      "source": [
        "from sklearn.ensemble import RandomForestClassifier\n",
        "\n",
        "max_accuracy = 0\n",
        "\n",
        "\n",
        "for x in range(2000):\n",
        "    rf = RandomForestClassifier(random_state=x)\n",
        "    rf.fit(X_train,Y_train)\n",
        "    Y_pred_rf = rf.predict(X_test)\n",
        "    current_accuracy = round(accuracy_score(Y_pred_rf,Y_test)*100,2)\n",
        "    if(current_accuracy>max_accuracy):\n",
        "        max_accuracy = current_accuracy\n",
        "        best_x = x"
      ]
    },
    {
      "cell_type": "code",
      "execution_count": 26,
      "metadata": {
        "id": "TZuhdabGlKq8",
        "outputId": "574d1758-ab52-4613-800a-dc7a22bb29ba",
        "colab": {
          "base_uri": "https://localhost:8080/"
        }
      },
      "outputs": [
        {
          "output_type": "stream",
          "name": "stdout",
          "text": [
            "The accuracy score achieved using Decision Tree is: 90.16 %\n",
            "              precision    recall  f1-score   support\n",
            "\n",
            "           0       0.85      0.92      0.88        25\n",
            "           1       0.94      0.89      0.91        36\n",
            "\n",
            "    accuracy                           0.90        61\n",
            "   macro avg       0.90      0.90      0.90        61\n",
            "weighted avg       0.90      0.90      0.90        61\n",
            "\n"
          ]
        }
      ],
      "source": [
        "rf = RandomForestClassifier(random_state=best_x)\n",
        "rf.fit(X_train,Y_train)\n",
        "Y_pred_rf = rf.predict(X_test)\n",
        "\n",
        "Y_pred_rf.shape\n",
        "\n",
        "score_rf = round(accuracy_score(Y_pred_rf,Y_test)*100,2)\n",
        "\n",
        "print(\"The accuracy score achieved using Decision Tree is: \"+str(score_rf)+\" %\")\n",
        "\n",
        "print(classification_report(Y_pred_rf,Y_test))"
      ]
    },
    {
      "cell_type": "markdown",
      "metadata": {
        "id": "Jc60FjS4lKq8"
      },
      "source": [
        "XGBoost"
      ]
    },
    {
      "cell_type": "code",
      "execution_count": 27,
      "metadata": {
        "id": "PZqXEb41lKq8",
        "outputId": "8892f4a4-c9fa-4706-b89b-b336e1aea0df",
        "colab": {
          "base_uri": "https://localhost:8080/"
        }
      },
      "outputs": [
        {
          "output_type": "stream",
          "name": "stdout",
          "text": [
            "The accuracy score achieved using XGBoost is: 83.61 %\n",
            "              precision    recall  f1-score   support\n",
            "\n",
            "           0       0.81      0.81      0.81        27\n",
            "           1       0.85      0.85      0.85        34\n",
            "\n",
            "    accuracy                           0.84        61\n",
            "   macro avg       0.83      0.83      0.83        61\n",
            "weighted avg       0.84      0.84      0.84        61\n",
            "\n"
          ]
        }
      ],
      "source": [
        "import xgboost as xgb\n",
        "\n",
        "xgb_model = xgb.XGBClassifier(objective=\"binary:logistic\", random_state=42)\n",
        "xgb_model.fit(X_train, Y_train)\n",
        "\n",
        "Y_pred_xgb = xgb_model.predict(X_test)\n",
        "\n",
        "Y_pred_xgb.shape\n",
        "\n",
        "score_xgb = round(accuracy_score(Y_pred_xgb,Y_test)*100,2)\n",
        "\n",
        "print(\"The accuracy score achieved using XGBoost is: \"+str(score_xgb)+\" %\")\n",
        "\n",
        "print(classification_report(Y_pred_xgb,Y_test))"
      ]
    },
    {
      "cell_type": "markdown",
      "metadata": {
        "id": "1VIfuSsClKq8"
      },
      "source": [
        "Neural Network"
      ]
    },
    {
      "cell_type": "code",
      "execution_count": 28,
      "metadata": {
        "collapsed": true,
        "id": "YUVdbUJ2lKq8",
        "outputId": "82ee247a-779f-4591-b172-2f6b0a431f28",
        "colab": {
          "base_uri": "https://localhost:8080/"
        }
      },
      "outputs": [
        {
          "output_type": "stream",
          "name": "stdout",
          "text": [
            "Epoch 1/300\n",
            "8/8 [==============================] - 1s 6ms/step - loss: 10.7103 - accuracy: 0.4587\n",
            "Epoch 2/300\n",
            "8/8 [==============================] - 0s 6ms/step - loss: 5.2237 - accuracy: 0.4587\n",
            "Epoch 3/300\n",
            "8/8 [==============================] - 0s 5ms/step - loss: 1.1772 - accuracy: 0.6322\n",
            "Epoch 4/300\n",
            "8/8 [==============================] - 0s 6ms/step - loss: 1.4353 - accuracy: 0.6240\n",
            "Epoch 5/300\n",
            "8/8 [==============================] - 0s 5ms/step - loss: 1.1701 - accuracy: 0.6198\n",
            "Epoch 6/300\n",
            "8/8 [==============================] - 0s 4ms/step - loss: 0.8639 - accuracy: 0.6529\n",
            "Epoch 7/300\n",
            "8/8 [==============================] - 0s 4ms/step - loss: 0.8738 - accuracy: 0.6570\n",
            "Epoch 8/300\n",
            "8/8 [==============================] - 0s 4ms/step - loss: 0.7569 - accuracy: 0.6818\n",
            "Epoch 9/300\n",
            "8/8 [==============================] - 0s 4ms/step - loss: 0.7723 - accuracy: 0.6488\n",
            "Epoch 10/300\n",
            "8/8 [==============================] - 0s 5ms/step - loss: 0.7422 - accuracy: 0.6653\n",
            "Epoch 11/300\n",
            "8/8 [==============================] - 0s 4ms/step - loss: 0.7387 - accuracy: 0.6653\n",
            "Epoch 12/300\n",
            "8/8 [==============================] - 0s 4ms/step - loss: 0.7335 - accuracy: 0.6736\n",
            "Epoch 13/300\n",
            "8/8 [==============================] - 0s 4ms/step - loss: 0.7252 - accuracy: 0.6901\n",
            "Epoch 14/300\n",
            "8/8 [==============================] - 0s 4ms/step - loss: 0.7194 - accuracy: 0.6860\n",
            "Epoch 15/300\n",
            "8/8 [==============================] - 0s 3ms/step - loss: 0.7121 - accuracy: 0.6818\n",
            "Epoch 16/300\n",
            "8/8 [==============================] - 0s 4ms/step - loss: 0.7072 - accuracy: 0.6901\n",
            "Epoch 17/300\n",
            "8/8 [==============================] - 0s 3ms/step - loss: 0.7120 - accuracy: 0.6901\n",
            "Epoch 18/300\n",
            "8/8 [==============================] - 0s 4ms/step - loss: 0.6972 - accuracy: 0.7066\n",
            "Epoch 19/300\n",
            "8/8 [==============================] - 0s 4ms/step - loss: 0.6985 - accuracy: 0.6860\n",
            "Epoch 20/300\n",
            "8/8 [==============================] - 0s 4ms/step - loss: 0.6886 - accuracy: 0.6942\n",
            "Epoch 21/300\n",
            "8/8 [==============================] - 0s 3ms/step - loss: 0.6846 - accuracy: 0.7025\n",
            "Epoch 22/300\n",
            "8/8 [==============================] - 0s 3ms/step - loss: 0.6770 - accuracy: 0.6942\n",
            "Epoch 23/300\n",
            "8/8 [==============================] - 0s 4ms/step - loss: 0.6849 - accuracy: 0.6901\n",
            "Epoch 24/300\n",
            "8/8 [==============================] - 0s 3ms/step - loss: 0.6609 - accuracy: 0.6942\n",
            "Epoch 25/300\n",
            "8/8 [==============================] - 0s 3ms/step - loss: 0.6589 - accuracy: 0.6860\n",
            "Epoch 26/300\n",
            "8/8 [==============================] - 0s 3ms/step - loss: 0.6551 - accuracy: 0.6983\n",
            "Epoch 27/300\n",
            "8/8 [==============================] - 0s 4ms/step - loss: 0.6440 - accuracy: 0.7025\n",
            "Epoch 28/300\n",
            "8/8 [==============================] - 0s 5ms/step - loss: 0.6433 - accuracy: 0.6901\n",
            "Epoch 29/300\n",
            "8/8 [==============================] - 0s 5ms/step - loss: 0.6344 - accuracy: 0.7025\n",
            "Epoch 30/300\n",
            "8/8 [==============================] - 0s 4ms/step - loss: 0.6364 - accuracy: 0.6983\n",
            "Epoch 31/300\n",
            "8/8 [==============================] - 0s 6ms/step - loss: 0.6242 - accuracy: 0.6983\n",
            "Epoch 32/300\n",
            "8/8 [==============================] - 0s 6ms/step - loss: 0.6264 - accuracy: 0.7107\n",
            "Epoch 33/300\n",
            "8/8 [==============================] - 0s 6ms/step - loss: 0.6233 - accuracy: 0.7107\n",
            "Epoch 34/300\n",
            "8/8 [==============================] - 0s 6ms/step - loss: 0.6217 - accuracy: 0.6942\n",
            "Epoch 35/300\n",
            "8/8 [==============================] - 0s 5ms/step - loss: 0.6091 - accuracy: 0.6942\n",
            "Epoch 36/300\n",
            "8/8 [==============================] - 0s 4ms/step - loss: 0.6061 - accuracy: 0.6983\n",
            "Epoch 37/300\n",
            "8/8 [==============================] - 0s 4ms/step - loss: 0.5995 - accuracy: 0.7107\n",
            "Epoch 38/300\n",
            "8/8 [==============================] - 0s 6ms/step - loss: 0.5912 - accuracy: 0.7107\n",
            "Epoch 39/300\n",
            "8/8 [==============================] - 0s 4ms/step - loss: 0.5869 - accuracy: 0.7149\n",
            "Epoch 40/300\n",
            "8/8 [==============================] - 0s 4ms/step - loss: 0.6051 - accuracy: 0.7107\n",
            "Epoch 41/300\n",
            "8/8 [==============================] - 0s 4ms/step - loss: 0.5954 - accuracy: 0.6901\n",
            "Epoch 42/300\n",
            "8/8 [==============================] - 0s 6ms/step - loss: 0.6029 - accuracy: 0.7149\n",
            "Epoch 43/300\n",
            "8/8 [==============================] - 0s 3ms/step - loss: 0.5743 - accuracy: 0.7025\n",
            "Epoch 44/300\n",
            "8/8 [==============================] - 0s 2ms/step - loss: 0.5668 - accuracy: 0.7107\n",
            "Epoch 45/300\n",
            "8/8 [==============================] - 0s 2ms/step - loss: 0.5685 - accuracy: 0.7149\n",
            "Epoch 46/300\n",
            "8/8 [==============================] - 0s 2ms/step - loss: 0.5703 - accuracy: 0.7231\n",
            "Epoch 47/300\n",
            "8/8 [==============================] - 0s 3ms/step - loss: 0.5726 - accuracy: 0.7231\n",
            "Epoch 48/300\n",
            "8/8 [==============================] - 0s 2ms/step - loss: 0.5675 - accuracy: 0.7066\n",
            "Epoch 49/300\n",
            "8/8 [==============================] - 0s 2ms/step - loss: 0.5668 - accuracy: 0.7025\n",
            "Epoch 50/300\n",
            "8/8 [==============================] - 0s 2ms/step - loss: 0.5607 - accuracy: 0.7149\n",
            "Epoch 51/300\n",
            "8/8 [==============================] - 0s 4ms/step - loss: 0.5500 - accuracy: 0.7273\n",
            "Epoch 52/300\n",
            "8/8 [==============================] - 0s 4ms/step - loss: 0.5391 - accuracy: 0.7314\n",
            "Epoch 53/300\n",
            "8/8 [==============================] - 0s 3ms/step - loss: 0.5326 - accuracy: 0.7397\n",
            "Epoch 54/300\n",
            "8/8 [==============================] - 0s 4ms/step - loss: 0.5368 - accuracy: 0.7397\n",
            "Epoch 55/300\n",
            "8/8 [==============================] - 0s 3ms/step - loss: 0.5250 - accuracy: 0.7355\n",
            "Epoch 56/300\n",
            "8/8 [==============================] - 0s 3ms/step - loss: 0.5265 - accuracy: 0.7397\n",
            "Epoch 57/300\n",
            "8/8 [==============================] - 0s 3ms/step - loss: 0.5261 - accuracy: 0.7397\n",
            "Epoch 58/300\n",
            "8/8 [==============================] - 0s 2ms/step - loss: 0.5302 - accuracy: 0.7397\n",
            "Epoch 59/300\n",
            "8/8 [==============================] - 0s 3ms/step - loss: 0.5139 - accuracy: 0.7479\n",
            "Epoch 60/300\n",
            "8/8 [==============================] - 0s 2ms/step - loss: 0.5181 - accuracy: 0.7562\n",
            "Epoch 61/300\n",
            "8/8 [==============================] - 0s 2ms/step - loss: 0.5108 - accuracy: 0.7397\n",
            "Epoch 62/300\n",
            "8/8 [==============================] - 0s 2ms/step - loss: 0.5022 - accuracy: 0.7645\n",
            "Epoch 63/300\n",
            "8/8 [==============================] - 0s 2ms/step - loss: 0.5014 - accuracy: 0.7438\n",
            "Epoch 64/300\n",
            "8/8 [==============================] - 0s 2ms/step - loss: 0.4930 - accuracy: 0.7727\n",
            "Epoch 65/300\n",
            "8/8 [==============================] - 0s 2ms/step - loss: 0.4903 - accuracy: 0.7479\n",
            "Epoch 66/300\n",
            "8/8 [==============================] - 0s 2ms/step - loss: 0.4851 - accuracy: 0.7562\n",
            "Epoch 67/300\n",
            "8/8 [==============================] - 0s 3ms/step - loss: 0.4826 - accuracy: 0.7603\n",
            "Epoch 68/300\n",
            "8/8 [==============================] - 0s 2ms/step - loss: 0.4787 - accuracy: 0.7603\n",
            "Epoch 69/300\n",
            "8/8 [==============================] - 0s 3ms/step - loss: 0.4800 - accuracy: 0.7810\n",
            "Epoch 70/300\n",
            "8/8 [==============================] - 0s 3ms/step - loss: 0.4819 - accuracy: 0.7727\n",
            "Epoch 71/300\n",
            "8/8 [==============================] - 0s 2ms/step - loss: 0.4779 - accuracy: 0.7851\n",
            "Epoch 72/300\n",
            "8/8 [==============================] - 0s 3ms/step - loss: 0.4770 - accuracy: 0.7603\n",
            "Epoch 73/300\n",
            "8/8 [==============================] - 0s 2ms/step - loss: 0.4688 - accuracy: 0.7810\n",
            "Epoch 74/300\n",
            "8/8 [==============================] - 0s 2ms/step - loss: 0.4642 - accuracy: 0.7769\n",
            "Epoch 75/300\n",
            "8/8 [==============================] - 0s 2ms/step - loss: 0.4611 - accuracy: 0.7934\n",
            "Epoch 76/300\n",
            "8/8 [==============================] - 0s 2ms/step - loss: 0.4657 - accuracy: 0.7769\n",
            "Epoch 77/300\n",
            "8/8 [==============================] - 0s 2ms/step - loss: 0.4570 - accuracy: 0.7975\n",
            "Epoch 78/300\n",
            "8/8 [==============================] - 0s 2ms/step - loss: 0.4602 - accuracy: 0.7893\n",
            "Epoch 79/300\n",
            "8/8 [==============================] - 0s 3ms/step - loss: 0.4645 - accuracy: 0.7893\n",
            "Epoch 80/300\n",
            "8/8 [==============================] - 0s 3ms/step - loss: 0.4824 - accuracy: 0.7562\n",
            "Epoch 81/300\n",
            "8/8 [==============================] - 0s 3ms/step - loss: 0.4670 - accuracy: 0.7810\n",
            "Epoch 82/300\n",
            "8/8 [==============================] - 0s 2ms/step - loss: 0.4577 - accuracy: 0.7727\n",
            "Epoch 83/300\n",
            "8/8 [==============================] - 0s 2ms/step - loss: 0.4460 - accuracy: 0.8017\n",
            "Epoch 84/300\n",
            "8/8 [==============================] - 0s 2ms/step - loss: 0.4456 - accuracy: 0.7934\n",
            "Epoch 85/300\n",
            "8/8 [==============================] - 0s 3ms/step - loss: 0.4434 - accuracy: 0.7934\n",
            "Epoch 86/300\n",
            "8/8 [==============================] - 0s 3ms/step - loss: 0.4440 - accuracy: 0.7934\n",
            "Epoch 87/300\n",
            "8/8 [==============================] - 0s 3ms/step - loss: 0.4504 - accuracy: 0.7934\n",
            "Epoch 88/300\n",
            "8/8 [==============================] - 0s 4ms/step - loss: 0.4543 - accuracy: 0.7645\n",
            "Epoch 89/300\n",
            "8/8 [==============================] - 0s 3ms/step - loss: 0.4546 - accuracy: 0.7686\n",
            "Epoch 90/300\n",
            "8/8 [==============================] - 0s 4ms/step - loss: 0.4556 - accuracy: 0.7810\n",
            "Epoch 91/300\n",
            "8/8 [==============================] - 0s 3ms/step - loss: 0.4412 - accuracy: 0.7975\n",
            "Epoch 92/300\n",
            "8/8 [==============================] - 0s 3ms/step - loss: 0.4369 - accuracy: 0.7851\n",
            "Epoch 93/300\n",
            "8/8 [==============================] - 0s 3ms/step - loss: 0.4274 - accuracy: 0.7851\n",
            "Epoch 94/300\n",
            "8/8 [==============================] - 0s 3ms/step - loss: 0.4297 - accuracy: 0.7934\n",
            "Epoch 95/300\n",
            "8/8 [==============================] - 0s 3ms/step - loss: 0.4218 - accuracy: 0.7934\n",
            "Epoch 96/300\n",
            "8/8 [==============================] - 0s 3ms/step - loss: 0.4290 - accuracy: 0.7934\n",
            "Epoch 97/300\n",
            "8/8 [==============================] - 0s 3ms/step - loss: 0.4310 - accuracy: 0.7810\n",
            "Epoch 98/300\n",
            "8/8 [==============================] - 0s 3ms/step - loss: 0.4233 - accuracy: 0.8140\n",
            "Epoch 99/300\n",
            "8/8 [==============================] - 0s 4ms/step - loss: 0.4224 - accuracy: 0.8017\n",
            "Epoch 100/300\n",
            "8/8 [==============================] - 0s 4ms/step - loss: 0.4177 - accuracy: 0.7769\n",
            "Epoch 101/300\n",
            "8/8 [==============================] - 0s 3ms/step - loss: 0.4202 - accuracy: 0.7975\n",
            "Epoch 102/300\n",
            "8/8 [==============================] - 0s 4ms/step - loss: 0.4431 - accuracy: 0.7810\n",
            "Epoch 103/300\n",
            "8/8 [==============================] - 0s 4ms/step - loss: 0.4221 - accuracy: 0.8017\n",
            "Epoch 104/300\n",
            "8/8 [==============================] - 0s 4ms/step - loss: 0.4151 - accuracy: 0.7934\n",
            "Epoch 105/300\n",
            "8/8 [==============================] - 0s 3ms/step - loss: 0.4118 - accuracy: 0.8017\n",
            "Epoch 106/300\n",
            "8/8 [==============================] - 0s 3ms/step - loss: 0.4123 - accuracy: 0.7934\n",
            "Epoch 107/300\n",
            "8/8 [==============================] - 0s 3ms/step - loss: 0.4081 - accuracy: 0.7851\n",
            "Epoch 108/300\n",
            "8/8 [==============================] - 0s 3ms/step - loss: 0.4072 - accuracy: 0.8140\n",
            "Epoch 109/300\n",
            "8/8 [==============================] - 0s 3ms/step - loss: 0.4181 - accuracy: 0.7934\n",
            "Epoch 110/300\n",
            "8/8 [==============================] - 0s 3ms/step - loss: 0.4212 - accuracy: 0.8223\n",
            "Epoch 111/300\n",
            "8/8 [==============================] - 0s 3ms/step - loss: 0.4146 - accuracy: 0.7975\n",
            "Epoch 112/300\n",
            "8/8 [==============================] - 0s 3ms/step - loss: 0.4257 - accuracy: 0.7975\n",
            "Epoch 113/300\n",
            "8/8 [==============================] - 0s 3ms/step - loss: 0.4003 - accuracy: 0.7975\n",
            "Epoch 114/300\n",
            "8/8 [==============================] - 0s 3ms/step - loss: 0.4056 - accuracy: 0.8058\n",
            "Epoch 115/300\n",
            "8/8 [==============================] - 0s 3ms/step - loss: 0.3983 - accuracy: 0.8140\n",
            "Epoch 116/300\n",
            "8/8 [==============================] - 0s 3ms/step - loss: 0.3969 - accuracy: 0.7975\n",
            "Epoch 117/300\n",
            "8/8 [==============================] - 0s 3ms/step - loss: 0.3998 - accuracy: 0.8347\n",
            "Epoch 118/300\n",
            "8/8 [==============================] - 0s 4ms/step - loss: 0.4066 - accuracy: 0.7934\n",
            "Epoch 119/300\n",
            "8/8 [==============================] - 0s 3ms/step - loss: 0.3999 - accuracy: 0.8099\n",
            "Epoch 120/300\n",
            "8/8 [==============================] - 0s 5ms/step - loss: 0.3966 - accuracy: 0.8347\n",
            "Epoch 121/300\n",
            "8/8 [==============================] - 0s 3ms/step - loss: 0.3968 - accuracy: 0.8223\n",
            "Epoch 122/300\n",
            "8/8 [==============================] - 0s 3ms/step - loss: 0.3941 - accuracy: 0.8264\n",
            "Epoch 123/300\n",
            "8/8 [==============================] - 0s 3ms/step - loss: 0.3973 - accuracy: 0.8306\n",
            "Epoch 124/300\n",
            "8/8 [==============================] - 0s 3ms/step - loss: 0.4051 - accuracy: 0.8264\n",
            "Epoch 125/300\n",
            "8/8 [==============================] - 0s 3ms/step - loss: 0.3969 - accuracy: 0.8223\n",
            "Epoch 126/300\n",
            "8/8 [==============================] - 0s 3ms/step - loss: 0.3990 - accuracy: 0.7934\n",
            "Epoch 127/300\n",
            "8/8 [==============================] - 0s 3ms/step - loss: 0.4209 - accuracy: 0.7934\n",
            "Epoch 128/300\n",
            "8/8 [==============================] - 0s 3ms/step - loss: 0.4547 - accuracy: 0.7975\n",
            "Epoch 129/300\n",
            "8/8 [==============================] - 0s 3ms/step - loss: 0.3950 - accuracy: 0.8347\n",
            "Epoch 130/300\n",
            "8/8 [==============================] - 0s 3ms/step - loss: 0.4053 - accuracy: 0.7810\n",
            "Epoch 131/300\n",
            "8/8 [==============================] - 0s 3ms/step - loss: 0.3907 - accuracy: 0.8223\n",
            "Epoch 132/300\n",
            "8/8 [==============================] - 0s 3ms/step - loss: 0.3834 - accuracy: 0.8306\n",
            "Epoch 133/300\n",
            "8/8 [==============================] - 0s 3ms/step - loss: 0.3829 - accuracy: 0.8306\n",
            "Epoch 134/300\n",
            "8/8 [==============================] - 0s 3ms/step - loss: 0.3820 - accuracy: 0.8099\n",
            "Epoch 135/300\n",
            "8/8 [==============================] - 0s 3ms/step - loss: 0.3830 - accuracy: 0.8223\n",
            "Epoch 136/300\n",
            "8/8 [==============================] - 0s 3ms/step - loss: 0.3888 - accuracy: 0.8017\n",
            "Epoch 137/300\n",
            "8/8 [==============================] - 0s 3ms/step - loss: 0.3824 - accuracy: 0.8347\n",
            "Epoch 138/300\n",
            "8/8 [==============================] - 0s 2ms/step - loss: 0.3823 - accuracy: 0.8099\n",
            "Epoch 139/300\n",
            "8/8 [==============================] - 0s 3ms/step - loss: 0.3783 - accuracy: 0.8264\n",
            "Epoch 140/300\n",
            "8/8 [==============================] - 0s 2ms/step - loss: 0.3831 - accuracy: 0.8182\n",
            "Epoch 141/300\n",
            "8/8 [==============================] - 0s 3ms/step - loss: 0.3869 - accuracy: 0.8182\n",
            "Epoch 142/300\n",
            "8/8 [==============================] - 0s 3ms/step - loss: 0.3915 - accuracy: 0.8264\n",
            "Epoch 143/300\n",
            "8/8 [==============================] - 0s 2ms/step - loss: 0.3792 - accuracy: 0.8182\n",
            "Epoch 144/300\n",
            "8/8 [==============================] - 0s 2ms/step - loss: 0.3871 - accuracy: 0.8264\n",
            "Epoch 145/300\n",
            "8/8 [==============================] - 0s 3ms/step - loss: 0.3963 - accuracy: 0.8058\n",
            "Epoch 146/300\n",
            "8/8 [==============================] - 0s 4ms/step - loss: 0.3991 - accuracy: 0.8388\n",
            "Epoch 147/300\n",
            "8/8 [==============================] - 0s 3ms/step - loss: 0.4050 - accuracy: 0.8306\n",
            "Epoch 148/300\n",
            "8/8 [==============================] - 0s 5ms/step - loss: 0.3763 - accuracy: 0.8264\n",
            "Epoch 149/300\n",
            "8/8 [==============================] - 0s 4ms/step - loss: 0.3882 - accuracy: 0.8223\n",
            "Epoch 150/300\n",
            "8/8 [==============================] - 0s 4ms/step - loss: 0.3786 - accuracy: 0.8264\n",
            "Epoch 151/300\n",
            "8/8 [==============================] - 0s 4ms/step - loss: 0.3895 - accuracy: 0.8264\n",
            "Epoch 152/300\n",
            "8/8 [==============================] - 0s 4ms/step - loss: 0.4088 - accuracy: 0.8058\n",
            "Epoch 153/300\n",
            "8/8 [==============================] - 0s 5ms/step - loss: 0.3808 - accuracy: 0.8099\n",
            "Epoch 154/300\n",
            "8/8 [==============================] - 0s 4ms/step - loss: 0.3707 - accuracy: 0.8388\n",
            "Epoch 155/300\n",
            "8/8 [==============================] - 0s 6ms/step - loss: 0.3721 - accuracy: 0.8223\n",
            "Epoch 156/300\n",
            "8/8 [==============================] - 0s 3ms/step - loss: 0.3817 - accuracy: 0.8223\n",
            "Epoch 157/300\n",
            "8/8 [==============================] - 0s 3ms/step - loss: 0.3886 - accuracy: 0.7975\n",
            "Epoch 158/300\n",
            "8/8 [==============================] - 0s 3ms/step - loss: 0.3884 - accuracy: 0.8347\n",
            "Epoch 159/300\n",
            "8/8 [==============================] - 0s 3ms/step - loss: 0.3887 - accuracy: 0.8306\n",
            "Epoch 160/300\n",
            "8/8 [==============================] - 0s 4ms/step - loss: 0.3912 - accuracy: 0.8058\n",
            "Epoch 161/300\n",
            "8/8 [==============================] - 0s 3ms/step - loss: 0.3793 - accuracy: 0.8388\n",
            "Epoch 162/300\n",
            "8/8 [==============================] - 0s 3ms/step - loss: 0.3753 - accuracy: 0.8430\n",
            "Epoch 163/300\n",
            "8/8 [==============================] - 0s 4ms/step - loss: 0.3742 - accuracy: 0.8182\n",
            "Epoch 164/300\n",
            "8/8 [==============================] - 0s 4ms/step - loss: 0.3736 - accuracy: 0.8430\n",
            "Epoch 165/300\n",
            "8/8 [==============================] - 0s 3ms/step - loss: 0.3737 - accuracy: 0.8182\n",
            "Epoch 166/300\n",
            "8/8 [==============================] - 0s 3ms/step - loss: 0.4023 - accuracy: 0.8264\n",
            "Epoch 167/300\n",
            "8/8 [==============================] - 0s 3ms/step - loss: 0.3926 - accuracy: 0.8099\n",
            "Epoch 168/300\n",
            "8/8 [==============================] - 0s 3ms/step - loss: 0.3725 - accuracy: 0.8223\n",
            "Epoch 169/300\n",
            "8/8 [==============================] - 0s 3ms/step - loss: 0.3786 - accuracy: 0.8347\n",
            "Epoch 170/300\n",
            "8/8 [==============================] - 0s 3ms/step - loss: 0.3859 - accuracy: 0.8264\n",
            "Epoch 171/300\n",
            "8/8 [==============================] - 0s 3ms/step - loss: 0.3660 - accuracy: 0.8347\n",
            "Epoch 172/300\n",
            "8/8 [==============================] - 0s 3ms/step - loss: 0.3795 - accuracy: 0.8182\n",
            "Epoch 173/300\n",
            "8/8 [==============================] - 0s 3ms/step - loss: 0.3720 - accuracy: 0.8306\n",
            "Epoch 174/300\n",
            "8/8 [==============================] - 0s 3ms/step - loss: 0.3853 - accuracy: 0.8471\n",
            "Epoch 175/300\n",
            "8/8 [==============================] - 0s 3ms/step - loss: 0.3813 - accuracy: 0.8388\n",
            "Epoch 176/300\n",
            "8/8 [==============================] - 0s 3ms/step - loss: 0.3857 - accuracy: 0.8264\n",
            "Epoch 177/300\n",
            "8/8 [==============================] - 0s 3ms/step - loss: 0.3704 - accuracy: 0.8264\n",
            "Epoch 178/300\n",
            "8/8 [==============================] - 0s 3ms/step - loss: 0.3768 - accuracy: 0.8140\n",
            "Epoch 179/300\n",
            "8/8 [==============================] - 0s 3ms/step - loss: 0.3721 - accuracy: 0.8347\n",
            "Epoch 180/300\n",
            "8/8 [==============================] - 0s 2ms/step - loss: 0.3760 - accuracy: 0.8430\n",
            "Epoch 181/300\n",
            "8/8 [==============================] - 0s 2ms/step - loss: 0.3817 - accuracy: 0.8182\n",
            "Epoch 182/300\n",
            "8/8 [==============================] - 0s 3ms/step - loss: 0.3802 - accuracy: 0.8347\n",
            "Epoch 183/300\n",
            "8/8 [==============================] - 0s 2ms/step - loss: 0.3842 - accuracy: 0.7934\n",
            "Epoch 184/300\n",
            "8/8 [==============================] - 0s 3ms/step - loss: 0.3891 - accuracy: 0.8388\n",
            "Epoch 185/300\n",
            "8/8 [==============================] - 0s 3ms/step - loss: 0.3719 - accuracy: 0.8140\n",
            "Epoch 186/300\n",
            "8/8 [==============================] - 0s 2ms/step - loss: 0.3721 - accuracy: 0.8388\n",
            "Epoch 187/300\n",
            "8/8 [==============================] - 0s 3ms/step - loss: 0.3926 - accuracy: 0.8306\n",
            "Epoch 188/300\n",
            "8/8 [==============================] - 0s 3ms/step - loss: 0.3882 - accuracy: 0.8306\n",
            "Epoch 189/300\n",
            "8/8 [==============================] - 0s 3ms/step - loss: 0.3730 - accuracy: 0.8430\n",
            "Epoch 190/300\n",
            "8/8 [==============================] - 0s 3ms/step - loss: 0.3731 - accuracy: 0.8388\n",
            "Epoch 191/300\n",
            "8/8 [==============================] - 0s 2ms/step - loss: 0.3814 - accuracy: 0.8182\n",
            "Epoch 192/300\n",
            "8/8 [==============================] - 0s 3ms/step - loss: 0.3807 - accuracy: 0.8182\n",
            "Epoch 193/300\n",
            "8/8 [==============================] - 0s 4ms/step - loss: 0.3745 - accuracy: 0.8140\n",
            "Epoch 194/300\n",
            "8/8 [==============================] - 0s 2ms/step - loss: 0.3667 - accuracy: 0.8347\n",
            "Epoch 195/300\n",
            "8/8 [==============================] - 0s 3ms/step - loss: 0.3681 - accuracy: 0.8140\n",
            "Epoch 196/300\n",
            "8/8 [==============================] - 0s 2ms/step - loss: 0.3700 - accuracy: 0.8388\n",
            "Epoch 197/300\n",
            "8/8 [==============================] - 0s 3ms/step - loss: 0.3653 - accuracy: 0.8347\n",
            "Epoch 198/300\n",
            "8/8 [==============================] - 0s 3ms/step - loss: 0.3628 - accuracy: 0.8306\n",
            "Epoch 199/300\n",
            "8/8 [==============================] - 0s 3ms/step - loss: 0.3632 - accuracy: 0.8388\n",
            "Epoch 200/300\n",
            "8/8 [==============================] - 0s 3ms/step - loss: 0.3641 - accuracy: 0.8306\n",
            "Epoch 201/300\n",
            "8/8 [==============================] - 0s 3ms/step - loss: 0.3651 - accuracy: 0.8388\n",
            "Epoch 202/300\n",
            "8/8 [==============================] - 0s 3ms/step - loss: 0.3714 - accuracy: 0.8430\n",
            "Epoch 203/300\n",
            "8/8 [==============================] - 0s 3ms/step - loss: 0.3817 - accuracy: 0.8306\n",
            "Epoch 204/300\n",
            "8/8 [==============================] - 0s 3ms/step - loss: 0.4019 - accuracy: 0.8140\n",
            "Epoch 205/300\n",
            "8/8 [==============================] - 0s 3ms/step - loss: 0.3923 - accuracy: 0.8140\n",
            "Epoch 206/300\n",
            "8/8 [==============================] - 0s 3ms/step - loss: 0.3688 - accuracy: 0.8306\n",
            "Epoch 207/300\n",
            "8/8 [==============================] - 0s 4ms/step - loss: 0.3753 - accuracy: 0.8264\n",
            "Epoch 208/300\n",
            "8/8 [==============================] - 0s 3ms/step - loss: 0.3669 - accuracy: 0.8306\n",
            "Epoch 209/300\n",
            "8/8 [==============================] - 0s 4ms/step - loss: 0.3626 - accuracy: 0.8264\n",
            "Epoch 210/300\n",
            "8/8 [==============================] - 0s 3ms/step - loss: 0.3669 - accuracy: 0.8388\n",
            "Epoch 211/300\n",
            "8/8 [==============================] - 0s 3ms/step - loss: 0.3627 - accuracy: 0.8306\n",
            "Epoch 212/300\n",
            "8/8 [==============================] - 0s 3ms/step - loss: 0.3656 - accuracy: 0.8223\n",
            "Epoch 213/300\n",
            "8/8 [==============================] - 0s 4ms/step - loss: 0.3741 - accuracy: 0.8306\n",
            "Epoch 214/300\n",
            "8/8 [==============================] - 0s 3ms/step - loss: 0.3709 - accuracy: 0.8264\n",
            "Epoch 215/300\n",
            "8/8 [==============================] - 0s 3ms/step - loss: 0.3673 - accuracy: 0.8388\n",
            "Epoch 216/300\n",
            "8/8 [==============================] - 0s 4ms/step - loss: 0.3876 - accuracy: 0.8306\n",
            "Epoch 217/300\n",
            "8/8 [==============================] - 0s 5ms/step - loss: 0.3615 - accuracy: 0.8347\n",
            "Epoch 218/300\n",
            "8/8 [==============================] - 0s 3ms/step - loss: 0.3725 - accuracy: 0.8182\n",
            "Epoch 219/300\n",
            "8/8 [==============================] - 0s 3ms/step - loss: 0.3687 - accuracy: 0.8388\n",
            "Epoch 220/300\n",
            "8/8 [==============================] - 0s 4ms/step - loss: 0.3775 - accuracy: 0.8182\n",
            "Epoch 221/300\n",
            "8/8 [==============================] - 0s 4ms/step - loss: 0.3912 - accuracy: 0.8182\n",
            "Epoch 222/300\n",
            "8/8 [==============================] - 0s 3ms/step - loss: 0.3874 - accuracy: 0.8058\n",
            "Epoch 223/300\n",
            "8/8 [==============================] - 0s 4ms/step - loss: 0.3627 - accuracy: 0.8306\n",
            "Epoch 224/300\n",
            "8/8 [==============================] - 0s 4ms/step - loss: 0.3691 - accuracy: 0.8223\n",
            "Epoch 225/300\n",
            "8/8 [==============================] - 0s 4ms/step - loss: 0.3807 - accuracy: 0.8388\n",
            "Epoch 226/300\n",
            "8/8 [==============================] - 0s 3ms/step - loss: 0.3820 - accuracy: 0.8182\n",
            "Epoch 227/300\n",
            "8/8 [==============================] - 0s 3ms/step - loss: 0.3770 - accuracy: 0.8264\n",
            "Epoch 228/300\n",
            "8/8 [==============================] - 0s 2ms/step - loss: 0.3639 - accuracy: 0.8388\n",
            "Epoch 229/300\n",
            "8/8 [==============================] - 0s 3ms/step - loss: 0.3719 - accuracy: 0.8388\n",
            "Epoch 230/300\n",
            "8/8 [==============================] - 0s 3ms/step - loss: 0.3747 - accuracy: 0.8264\n",
            "Epoch 231/300\n",
            "8/8 [==============================] - 0s 2ms/step - loss: 0.3807 - accuracy: 0.8306\n",
            "Epoch 232/300\n",
            "8/8 [==============================] - 0s 2ms/step - loss: 0.3670 - accuracy: 0.8430\n",
            "Epoch 233/300\n",
            "8/8 [==============================] - 0s 2ms/step - loss: 0.3685 - accuracy: 0.8430\n",
            "Epoch 234/300\n",
            "8/8 [==============================] - 0s 3ms/step - loss: 0.3744 - accuracy: 0.8264\n",
            "Epoch 235/300\n",
            "8/8 [==============================] - 0s 3ms/step - loss: 0.3733 - accuracy: 0.8430\n",
            "Epoch 236/300\n",
            "8/8 [==============================] - 0s 3ms/step - loss: 0.3646 - accuracy: 0.8347\n",
            "Epoch 237/300\n",
            "8/8 [==============================] - 0s 4ms/step - loss: 0.3602 - accuracy: 0.8223\n",
            "Epoch 238/300\n",
            "8/8 [==============================] - 0s 3ms/step - loss: 0.3707 - accuracy: 0.8388\n",
            "Epoch 239/300\n",
            "8/8 [==============================] - 0s 4ms/step - loss: 0.3665 - accuracy: 0.8182\n",
            "Epoch 240/300\n",
            "8/8 [==============================] - 0s 4ms/step - loss: 0.3649 - accuracy: 0.8471\n",
            "Epoch 241/300\n",
            "8/8 [==============================] - 0s 4ms/step - loss: 0.3752 - accuracy: 0.8264\n",
            "Epoch 242/300\n",
            "8/8 [==============================] - 0s 3ms/step - loss: 0.3906 - accuracy: 0.8306\n",
            "Epoch 243/300\n",
            "8/8 [==============================] - 0s 3ms/step - loss: 0.3657 - accuracy: 0.8306\n",
            "Epoch 244/300\n",
            "8/8 [==============================] - 0s 3ms/step - loss: 0.3759 - accuracy: 0.8306\n",
            "Epoch 245/300\n",
            "8/8 [==============================] - 0s 2ms/step - loss: 0.3779 - accuracy: 0.8140\n",
            "Epoch 246/300\n",
            "8/8 [==============================] - 0s 3ms/step - loss: 0.3774 - accuracy: 0.8471\n",
            "Epoch 247/300\n",
            "8/8 [==============================] - 0s 4ms/step - loss: 0.3577 - accuracy: 0.8430\n",
            "Epoch 248/300\n",
            "8/8 [==============================] - 0s 3ms/step - loss: 0.3558 - accuracy: 0.8388\n",
            "Epoch 249/300\n",
            "8/8 [==============================] - 0s 3ms/step - loss: 0.3618 - accuracy: 0.8347\n",
            "Epoch 250/300\n",
            "8/8 [==============================] - 0s 3ms/step - loss: 0.3586 - accuracy: 0.8388\n",
            "Epoch 251/300\n",
            "8/8 [==============================] - 0s 3ms/step - loss: 0.3557 - accuracy: 0.8430\n",
            "Epoch 252/300\n",
            "8/8 [==============================] - 0s 3ms/step - loss: 0.3639 - accuracy: 0.8223\n",
            "Epoch 253/300\n",
            "8/8 [==============================] - 0s 5ms/step - loss: 0.3633 - accuracy: 0.8223\n",
            "Epoch 254/300\n",
            "8/8 [==============================] - 0s 4ms/step - loss: 0.3575 - accuracy: 0.8388\n",
            "Epoch 255/300\n",
            "8/8 [==============================] - 0s 4ms/step - loss: 0.3711 - accuracy: 0.8182\n",
            "Epoch 256/300\n",
            "8/8 [==============================] - 0s 4ms/step - loss: 0.3655 - accuracy: 0.8347\n",
            "Epoch 257/300\n",
            "8/8 [==============================] - 0s 3ms/step - loss: 0.3608 - accuracy: 0.8182\n",
            "Epoch 258/300\n",
            "8/8 [==============================] - 0s 4ms/step - loss: 0.3683 - accuracy: 0.8430\n",
            "Epoch 259/300\n",
            "8/8 [==============================] - 0s 4ms/step - loss: 0.3598 - accuracy: 0.8347\n",
            "Epoch 260/300\n",
            "8/8 [==============================] - 0s 3ms/step - loss: 0.3565 - accuracy: 0.8347\n",
            "Epoch 261/300\n",
            "8/8 [==============================] - 0s 3ms/step - loss: 0.3606 - accuracy: 0.8182\n",
            "Epoch 262/300\n",
            "8/8 [==============================] - 0s 3ms/step - loss: 0.3555 - accuracy: 0.8430\n",
            "Epoch 263/300\n",
            "8/8 [==============================] - 0s 4ms/step - loss: 0.3828 - accuracy: 0.8347\n",
            "Epoch 264/300\n",
            "8/8 [==============================] - 0s 4ms/step - loss: 0.3835 - accuracy: 0.8223\n",
            "Epoch 265/300\n",
            "8/8 [==============================] - 0s 4ms/step - loss: 0.3565 - accuracy: 0.8306\n",
            "Epoch 266/300\n",
            "8/8 [==============================] - 0s 6ms/step - loss: 0.3694 - accuracy: 0.8264\n",
            "Epoch 267/300\n",
            "8/8 [==============================] - 0s 6ms/step - loss: 0.3888 - accuracy: 0.8264\n",
            "Epoch 268/300\n",
            "8/8 [==============================] - 0s 5ms/step - loss: 0.3599 - accuracy: 0.8264\n",
            "Epoch 269/300\n",
            "8/8 [==============================] - 0s 5ms/step - loss: 0.3629 - accuracy: 0.8223\n",
            "Epoch 270/300\n",
            "8/8 [==============================] - 0s 5ms/step - loss: 0.3643 - accuracy: 0.8388\n",
            "Epoch 271/300\n",
            "8/8 [==============================] - 0s 5ms/step - loss: 0.3711 - accuracy: 0.8264\n",
            "Epoch 272/300\n",
            "8/8 [==============================] - 0s 5ms/step - loss: 0.3664 - accuracy: 0.8140\n",
            "Epoch 273/300\n",
            "8/8 [==============================] - 0s 6ms/step - loss: 0.3927 - accuracy: 0.8182\n",
            "Epoch 274/300\n",
            "8/8 [==============================] - 0s 5ms/step - loss: 0.4010 - accuracy: 0.8306\n",
            "Epoch 275/300\n",
            "8/8 [==============================] - 0s 5ms/step - loss: 0.3880 - accuracy: 0.8182\n",
            "Epoch 276/300\n",
            "8/8 [==============================] - 0s 4ms/step - loss: 0.4018 - accuracy: 0.8140\n",
            "Epoch 277/300\n",
            "8/8 [==============================] - 0s 4ms/step - loss: 0.4468 - accuracy: 0.7934\n",
            "Epoch 278/300\n",
            "8/8 [==============================] - 0s 5ms/step - loss: 0.3898 - accuracy: 0.8264\n",
            "Epoch 279/300\n",
            "8/8 [==============================] - 0s 6ms/step - loss: 0.3747 - accuracy: 0.8306\n",
            "Epoch 280/300\n",
            "8/8 [==============================] - 0s 6ms/step - loss: 0.3694 - accuracy: 0.8306\n",
            "Epoch 281/300\n",
            "8/8 [==============================] - 0s 4ms/step - loss: 0.3823 - accuracy: 0.8264\n",
            "Epoch 282/300\n",
            "8/8 [==============================] - 0s 4ms/step - loss: 0.3554 - accuracy: 0.8512\n",
            "Epoch 283/300\n",
            "8/8 [==============================] - 0s 5ms/step - loss: 0.3707 - accuracy: 0.8140\n",
            "Epoch 284/300\n",
            "8/8 [==============================] - 0s 4ms/step - loss: 0.3687 - accuracy: 0.8306\n",
            "Epoch 285/300\n",
            "8/8 [==============================] - 0s 5ms/step - loss: 0.3573 - accuracy: 0.8347\n",
            "Epoch 286/300\n",
            "8/8 [==============================] - 0s 5ms/step - loss: 0.3560 - accuracy: 0.8430\n",
            "Epoch 287/300\n",
            "8/8 [==============================] - 0s 4ms/step - loss: 0.3599 - accuracy: 0.8388\n",
            "Epoch 288/300\n",
            "8/8 [==============================] - 0s 3ms/step - loss: 0.3520 - accuracy: 0.8430\n",
            "Epoch 289/300\n",
            "8/8 [==============================] - 0s 3ms/step - loss: 0.3574 - accuracy: 0.8264\n",
            "Epoch 290/300\n",
            "8/8 [==============================] - 0s 3ms/step - loss: 0.3588 - accuracy: 0.8471\n",
            "Epoch 291/300\n",
            "8/8 [==============================] - 0s 3ms/step - loss: 0.3541 - accuracy: 0.8388\n",
            "Epoch 292/300\n",
            "8/8 [==============================] - 0s 3ms/step - loss: 0.3546 - accuracy: 0.8388\n",
            "Epoch 293/300\n",
            "8/8 [==============================] - 0s 4ms/step - loss: 0.3613 - accuracy: 0.8306\n",
            "Epoch 294/300\n",
            "8/8 [==============================] - 0s 4ms/step - loss: 0.3837 - accuracy: 0.8140\n",
            "Epoch 295/300\n",
            "8/8 [==============================] - 0s 4ms/step - loss: 0.3688 - accuracy: 0.8306\n",
            "Epoch 296/300\n",
            "8/8 [==============================] - 0s 4ms/step - loss: 0.3763 - accuracy: 0.8182\n",
            "Epoch 297/300\n",
            "8/8 [==============================] - 0s 3ms/step - loss: 0.3509 - accuracy: 0.8306\n",
            "Epoch 298/300\n",
            "8/8 [==============================] - 0s 3ms/step - loss: 0.3539 - accuracy: 0.8264\n",
            "Epoch 299/300\n",
            "8/8 [==============================] - 0s 4ms/step - loss: 0.3817 - accuracy: 0.8430\n",
            "Epoch 300/300\n",
            "8/8 [==============================] - 0s 4ms/step - loss: 0.3642 - accuracy: 0.8388\n",
            "2/2 [==============================] - 0s 5ms/step\n",
            "The accuracy score achieved using Neural Network is: 81.97 %\n"
          ]
        }
      ],
      "source": [
        "from keras.models import Sequential\n",
        "from keras.layers import Dense\n",
        "\n",
        "# https://stats.stackexchange.com/a/136542 helped a lot in avoiding overfitting\n",
        "\n",
        "model = Sequential()\n",
        "model.add(Dense(11,activation='relu',input_dim=13))\n",
        "model.add(Dense(1,activation='sigmoid'))\n",
        "\n",
        "model.compile(loss='binary_crossentropy',optimizer='adam',metrics=['accuracy'])\n",
        "\n",
        "model.fit(X_train,Y_train,epochs=300)\n",
        "\n",
        "Y_pred_nn = model.predict(X_test)\n",
        "\n",
        "Y_pred_nn.shape\n",
        "\n",
        "rounded = [round(x[0]) for x in Y_pred_nn]\n",
        "\n",
        "Y_pred_nn = rounded\n",
        "\n",
        "score_nn = round(accuracy_score(Y_pred_nn,Y_test)*100,2)\n",
        "\n",
        "print(\"The accuracy score achieved using Neural Network is: \"+str(score_nn)+\" %\")"
      ]
    },
    {
      "cell_type": "markdown",
      "metadata": {
        "id": "DKX-dqrZlKq8"
      },
      "source": [
        "# Note: Accuracy of 85% can be achieved on the test set, by setting epochs=2000, and number of nodes = 11.\n"
      ]
    },
    {
      "cell_type": "code",
      "execution_count": 29,
      "metadata": {
        "id": "abtPsoP5lKrC",
        "outputId": "0ae56c02-81cd-4704-892d-12b2e7c0433c",
        "colab": {
          "base_uri": "https://localhost:8080/"
        }
      },
      "outputs": [
        {
          "output_type": "stream",
          "name": "stdout",
          "text": [
            "              precision    recall  f1-score   support\n",
            "\n",
            "           0       0.78      0.81      0.79        26\n",
            "           1       0.85      0.83      0.84        35\n",
            "\n",
            "    accuracy                           0.82        61\n",
            "   macro avg       0.82      0.82      0.82        61\n",
            "weighted avg       0.82      0.82      0.82        61\n",
            "\n"
          ]
        }
      ],
      "source": [
        "print(classification_report(Y_pred_nn,Y_test))\n"
      ]
    },
    {
      "cell_type": "markdown",
      "metadata": {
        "id": "NYaKSyRflKrC"
      },
      "source": [
        "VI. Output final score"
      ]
    },
    {
      "cell_type": "code",
      "execution_count": 30,
      "metadata": {
        "id": "WOf81PRdlKrC",
        "outputId": "2275fe04-87f1-480e-e72b-e6b5c5d36a46",
        "colab": {
          "base_uri": "https://localhost:8080/"
        }
      },
      "outputs": [
        {
          "output_type": "stream",
          "name": "stdout",
          "text": [
            "The accuracy score achieved using Logistic Regression is: 85.25 %\n",
            "The accuracy score achieved using Naive Bayes is: 85.25 %\n",
            "The accuracy score achieved using Support Vector Machine is: 81.97 %\n",
            "The accuracy score achieved using K-Nearest Neighbors is: 67.21 %\n",
            "The accuracy score achieved using Decision Tree is: 81.97 %\n",
            "The accuracy score achieved using Random Forest is: 90.16 %\n",
            "The accuracy score achieved using XGBoost is: 83.61 %\n",
            "The accuracy score achieved using Neural Network is: 81.97 %\n"
          ]
        }
      ],
      "source": [
        "scores = [score_lr,score_nb,score_svm,score_knn,score_dt,score_rf,score_xgb,score_nn]\n",
        "algorithms = [\"Logistic Regression\",\"Naive Bayes\",\"Support Vector Machine\",\"K-Nearest Neighbors\",\"Decision Tree\",\"Random Forest\",\"XGBoost\",\"Neural Network\"]\n",
        "\n",
        "for i in range(len(algorithms)):\n",
        "    print(\"The accuracy score achieved using \"+algorithms[i]+\" is: \"+str(scores[i])+\" %\")"
      ]
    }
  ],
  "metadata": {
    "kernelspec": {
      "display_name": "base",
      "language": "python",
      "name": "python3"
    },
    "language_info": {
      "codemirror_mode": {
        "name": "ipython",
        "version": 3
      },
      "file_extension": ".py",
      "mimetype": "text/x-python",
      "name": "python",
      "nbconvert_exporter": "python",
      "pygments_lexer": "ipython3",
      "version": "3.12.4"
    },
    "colab": {
      "provenance": []
    }
  },
  "nbformat": 4,
  "nbformat_minor": 0
}