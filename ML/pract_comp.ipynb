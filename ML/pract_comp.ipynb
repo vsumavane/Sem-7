{
 "cells": [
  {
   "cell_type": "code",
   "execution_count": 20,
   "metadata": {},
   "outputs": [],
   "source": [
    "import numpy as np\n",
    "import pandas as pd\n",
    "from sklearn.model_selection import train_test_split\n",
    "from sklearn.preprocessing import StandardScaler\n",
    "from sklearn.metrics import mean_squared_error, r2_score, accuracy_score, precision_score, recall_score, f1_score\n",
    "from sklearn.neighbors import KNeighborsRegressor, KNeighborsClassifier\n",
    "from sklearn.linear_model import LinearRegression, LogisticRegression\n",
    "from sklearn.datasets import load_diabetes\n",
    "from tabulate import tabulate"
   ]
  },
  {
   "cell_type": "markdown",
   "metadata": {},
   "source": [
    "### Load Datasets"
   ]
  },
  {
   "cell_type": "code",
   "execution_count": 9,
   "metadata": {},
   "outputs": [],
   "source": [
    "diabetes = load_diabetes()\n",
    "X, y = diabetes.data, diabetes.target\n"
   ]
  },
  {
   "cell_type": "markdown",
   "metadata": {},
   "source": [
    "# Binarize the target variable for logistic regression and KNN classification\n"
   ]
  },
  {
   "cell_type": "code",
   "execution_count": 11,
   "metadata": {},
   "outputs": [],
   "source": [
    "y_binary = (y > 140).astype(int)"
   ]
  },
  {
   "cell_type": "markdown",
   "metadata": {},
   "source": [
    "# Split the dataset into training and test sets for regression\n"
   ]
  },
  {
   "cell_type": "code",
   "execution_count": 12,
   "metadata": {},
   "outputs": [],
   "source": [
    "X_train, X_test, y_train, y_test = train_test_split(X, y, test_size=0.2, random_state=42)\n"
   ]
  },
  {
   "cell_type": "code",
   "execution_count": 13,
   "metadata": {},
   "outputs": [],
   "source": [
    "X_train_bin, X_test_bin, y_train_bin, y_test_bin = train_test_split(X, y_binary, test_size=0.2, random_state=42)\n"
   ]
  },
  {
   "cell_type": "code",
   "execution_count": 14,
   "metadata": {},
   "outputs": [],
   "source": [
    "scaler = StandardScaler()\n",
    "X_train_scaled = scaler.fit_transform(X_train)\n",
    "X_test_scaled = scaler.transform(X_test)\n",
    "X_train_bin_scaled = scaler.fit_transform(X_train_bin)\n",
    "X_test_bin_scaled = scaler.transform(X_test_bin)"
   ]
  },
  {
   "cell_type": "code",
   "execution_count": 15,
   "metadata": {},
   "outputs": [],
   "source": [
    "lin_reg = LinearRegression()\n",
    "lin_reg.fit(X_train_scaled, y_train)\n",
    "y_pred_lin_reg = lin_reg.predict(X_test_scaled)"
   ]
  },
  {
   "cell_type": "code",
   "execution_count": 16,
   "metadata": {},
   "outputs": [],
   "source": [
    "log_reg = LogisticRegression()\n",
    "log_reg.fit(X_train_bin_scaled, y_train_bin)\n",
    "y_pred_log_reg = log_reg.predict(X_test_bin_scaled)"
   ]
  },
  {
   "cell_type": "code",
   "execution_count": 17,
   "metadata": {},
   "outputs": [],
   "source": [
    "knn_reg = KNeighborsRegressor(n_neighbors=5)\n",
    "knn_reg.fit(X_train_scaled, y_train)\n",
    "y_pred_knn_reg = knn_reg.predict(X_test_scaled)"
   ]
  },
  {
   "cell_type": "code",
   "execution_count": 21,
   "metadata": {},
   "outputs": [],
   "source": [
    "knn_clf = KNeighborsClassifier(n_neighbors=5)\n",
    "knn_clf.fit(X_train_bin_scaled, y_train_bin)\n",
    "y_pred_knn_clf = knn_clf.predict(X_test_bin_scaled)"
   ]
  },
  {
   "cell_type": "code",
   "execution_count": 22,
   "metadata": {},
   "outputs": [
    {
     "name": "stdout",
     "output_type": "stream",
     "text": [
      "Linear Regression - MSE: 2900.193628493483, R2: 0.45260276297191915\n"
     ]
    }
   ],
   "source": [
    "mse_lin_reg = mean_squared_error(y_test, y_pred_lin_reg)\n",
    "r2_lin_reg = r2_score(y_test, y_pred_lin_reg)\n",
    "print(f\"Linear Regression - MSE: {mse_lin_reg}, R2: {r2_lin_reg}\")"
   ]
  },
  {
   "cell_type": "code",
   "execution_count": 23,
   "metadata": {},
   "outputs": [
    {
     "name": "stdout",
     "output_type": "stream",
     "text": [
      "Logistic Regression - Accuracy: 0.7303370786516854, Precision: 0.6904761904761905, Recall: 0.725, F1 Score: 0.7073170731707317\n"
     ]
    }
   ],
   "source": [
    "accuracy_log_reg = accuracy_score(y_test_bin, y_pred_log_reg)\n",
    "precision_log_reg = precision_score(y_test_bin, y_pred_log_reg)\n",
    "recall_log_reg = recall_score(y_test_bin, y_pred_log_reg)\n",
    "f1_log_reg = f1_score(y_test_bin, y_pred_log_reg)\n",
    "print(f\"Logistic Regression - Accuracy: {accuracy_log_reg}, Precision: {precision_log_reg}, Recall: {recall_log_reg}, F1 Score: {f1_log_reg}\")"
   ]
  },
  {
   "cell_type": "code",
   "execution_count": 24,
   "metadata": {},
   "outputs": [
    {
     "name": "stdout",
     "output_type": "stream",
     "text": [
      "KNN Regression - MSE: 3047.449887640449, R2: 0.42480887066066253\n"
     ]
    }
   ],
   "source": [
    "mse_knn_reg = mean_squared_error(y_test, y_pred_knn_reg)\n",
    "r2_knn_reg = r2_score(y_test, y_pred_knn_reg)\n",
    "print(f\"KNN Regression - MSE: {mse_knn_reg}, R2: {r2_knn_reg}\")"
   ]
  },
  {
   "cell_type": "code",
   "execution_count": 25,
   "metadata": {},
   "outputs": [
    {
     "name": "stdout",
     "output_type": "stream",
     "text": [
      "KNN Classification - Accuracy: 0.6853932584269663, Precision: 0.65, Recall: 0.65, F1 Score: 0.65\n"
     ]
    }
   ],
   "source": [
    "accuracy_knn_clf = accuracy_score(y_test_bin, y_pred_knn_clf)\n",
    "precision_knn_clf = precision_score(y_test_bin, y_pred_knn_clf)\n",
    "recall_knn_clf = recall_score(y_test_bin, y_pred_knn_clf)\n",
    "f1_knn_clf = f1_score(y_test_bin, y_pred_knn_clf)\n",
    "print(f\"KNN Classification - Accuracy: {accuracy_knn_clf}, Precision: {precision_knn_clf}, Recall: {recall_knn_clf}, F1 Score: {f1_knn_clf}\")"
   ]
  },
  {
   "cell_type": "code",
   "execution_count": 27,
   "metadata": {},
   "outputs": [],
   "source": [
    "table_data = [\n",
    "    ['Linear Regression', mse_lin_reg, r2_lin_reg, None, None, None, None],\n",
    "    ['Logistic Regression', None, None, accuracy_log_reg, precision_log_reg, recall_log_reg, f1_log_reg],\n",
    "    ['KNN Regression', mse_knn_reg, r2_knn_reg, None, None, None, None],\n",
    "    ['KNN Classification', None, None, accuracy_knn_clf, precision_knn_clf, recall_knn_clf, f1_knn_clf]\n",
    "]"
   ]
  },
  {
   "cell_type": "code",
   "execution_count": 28,
   "metadata": {},
   "outputs": [],
   "source": [
    "headers = ['Model', 'MSE', 'R2', 'Accuracy', 'Precision', 'Recall', 'F1 Score']\n"
   ]
  },
  {
   "cell_type": "code",
   "execution_count": 31,
   "metadata": {},
   "outputs": [],
   "source": [
    "print(tabulate(table_data, headers=headers, tablefmt='grid'))"
   ]
  }
 ],
 "metadata": {
  "kernelspec": {
   "display_name": "base",
   "language": "python",
   "name": "python3"
  },
  "language_info": {
   "codemirror_mode": {
    "name": "ipython",
    "version": 3
   },
   "file_extension": ".py",
   "mimetype": "text/x-python",
   "name": "python",
   "nbconvert_exporter": "python",
   "pygments_lexer": "ipython3",
   "version": "3.12.4"
  }
 },
 "nbformat": 4,
 "nbformat_minor": 2
}
