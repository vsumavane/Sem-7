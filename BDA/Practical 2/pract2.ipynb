{
  "cells": [
    {
      "cell_type": "code",
      "execution_count": 1,
      "metadata": {
        "id": "eRFeA9tiz_aM"
      },
      "outputs": [],
      "source": [
        "import urllib.request\n",
        "import string"
      ]
    },
    {
      "cell_type": "code",
      "execution_count": 2,
      "metadata": {
        "id": "6qHF5Hzq0FRd"
      },
      "outputs": [],
      "source": [
        "story = 'https://bit.ly/pract2text'\n",
        "request = urllib.request.Request(story)\n",
        "response = urllib.request.urlopen(request)\n",
        "each_word = []\n",
        "same_words = {}"
      ]
    },
    {
      "cell_type": "code",
      "execution_count": 3,
      "metadata": {
        "id": "evC3C7bf0qEG"
      },
      "outputs": [],
      "source": [
        "# Read the text from the URL\n",
        "for line in response:\n",
        "    line_words = line.decode('utf-8').split()  # decode the bytes to string\n",
        "    for word in line_words:\n",
        "        # Remove punctuation from each word\n",
        "        word = word.strip(string.punctuation).lower()\n",
        "        if word:  # check if word is not empty after stripping\n",
        "            each_word.append(word)"
      ]
    },
    {
      "cell_type": "code",
      "execution_count": 4,
      "metadata": {
        "colab": {
          "base_uri": "https://localhost:8080/"
        },
        "id": "NKcmyhQx1SpB",
        "outputId": "1820a541-edde-477b-80f7-c6ebf1e821fc"
      },
      "outputs": [
        {
          "name": "stdout",
          "output_type": "stream",
          "text": [
            "word = the count = 37\n",
            "word = cat count = 9\n",
            "word = with count = 13\n",
            "word = hat count = 11\n",
            "word = sat count = 7\n",
            "word = on count = 6\n",
            "word = mat count = 8\n",
            "word = bat count = 5\n",
            "word = and count = 10\n",
            "word = rat count = 4\n",
            "word = was count = 3\n",
            "word = flat count = 2\n",
            "word = that count = 2\n"
          ]
        }
      ],
      "source": [
        "# Count the occurrences of each word\n",
        "for words in each_word:\n",
        "    if words not in same_words.keys():\n",
        "        same_words[words] = 1\n",
        "    else:\n",
        "        same_words[words] = same_words[words] + 1\n",
        "\n",
        "# Print the word counts\n",
        "for each in same_words.keys():\n",
        "    print(f\"word = {each} count = {same_words[each]}\")"
      ]
    }
  ],
  "metadata": {
    "colab": {
      "provenance": []
    },
    "kernelspec": {
      "display_name": "base",
      "language": "python",
      "name": "python3"
    },
    "language_info": {
      "codemirror_mode": {
        "name": "ipython",
        "version": 3
      },
      "file_extension": ".py",
      "mimetype": "text/x-python",
      "name": "python",
      "nbconvert_exporter": "python",
      "pygments_lexer": "ipython3",
      "version": "3.10.13"
    }
  },
  "nbformat": 4,
  "nbformat_minor": 0
}
